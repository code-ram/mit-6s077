{
 "cells": [
  {
   "cell_type": "markdown",
   "metadata": {
    "deletable": false,
    "editable": false
   },
   "source": [
    "# Problem Set 0\n",
    "# Due Date: Not Due. \n",
    "\n",
    "\n",
    "Welcome to the computation platform for 6.s077! <br> \n",
    "If you are accessing this on <a href=\"http://mit-6s077.mit.edu\">mit-6s077.mit.edu</a> then you have managed to get yourself set up on the platform. We provide Problem Set 0 for you to get comfortable with the platform (JupyterHub) and Jupyter notebooks. <br>\n",
    "\n",
    "We recommend you step through all the instructions below (line by line) even though you may already be familiar with data analysis in Python and/or Jupyter notebooks."
   ]
  },
  {
   "cell_type": "markdown",
   "metadata": {
    "deletable": false,
    "editable": false
   },
   "source": [
    "First note that we only support Python 3 for this platform.<br>\n",
    "\n",
    "<b>Importing Libraries</b> <br>\n",
    "#This platform comes with support for common data analysis and machine learning libraries (in Python). These include the following which you will be using extensively through this course:<br>\n",
    "<b>Numpy</b>: http://www.numpy.org/ <br>\n",
    "<b>Pandas</b>: https://pandas.pydata.org/ <br>\n",
    "<b>Scipy</b>: https://www.scipy.org/ <br>\n",
    "<b>Scikit-Learn</b>: http://scikit-learn.org/stable/ <br>\n",
    "<b>Statsmodels</b>: http://scikit-learn.org/stable/ <br>\n",
    "<b>Matplotlib</b>: https://matplotlib.org/ <br>"
   ]
  },
  {
   "cell_type": "markdown",
   "metadata": {
    "deletable": false,
    "editable": false
   },
   "source": [
    "<h3><font color=\"red\"> SAVE YOUR WORK!</h3>\n",
    "<b>Periodically, please hit the <font color=\"red\">\"Save\"</font> button (in the toolbar above this notebook or in <font color=\"red\">File > Save and Checkpoint</font>) periodically. Unsaved work will be lost.</b>"
   ]
  },
  {
   "cell_type": "markdown",
   "metadata": {},
   "source": [
    "<b> Formatting </b> <br>\n",
    "Notice that there are two distinct type of \"cells\" you will encounter in this Jupyter notebook: markdown and code. You can see this information by selecting (click on) a cell (like this one) and noticing the text in the dropdown on the menu at the top of this notebook (next to the Refresh button). For example, if you click on this cell, you should see \"<b>Markdown</b>\". <br> <br>\n",
    "<b>Finally</b>, note that if you accidentally double-click on a Markdown cell, it will enable Edit mode and you will see lots html markup. To display the correctly formatted output, please hit \"Run\" (from the menu above this notebook) while the selected Markdown cell is in edit more (showing the html markup).\n"
   ]
  },
  {
   "cell_type": "markdown",
   "metadata": {
    "deletable": false,
    "editable": false
   },
   "source": [
    "<b>0.</b> We start by printing a quick \"Hello, World!\". <br>\n",
    "Please execute the Run command (from the menu above this notebook) on the cell below to ensure you see no errors. You can 'select' a cell by clicking on it and then hit the Run button in the menu above. Errors, or any expected output should show up immediately below the cell. In the case below, you should see a \"Hello, World!\" printed below the cell."
   ]
  },
  {
   "cell_type": "code",
   "execution_count": null,
   "metadata": {},
   "outputs": [],
   "source": [
    "print(\"Hello, World!\")"
   ]
  },
  {
   "cell_type": "markdown",
   "metadata": {
    "deletable": false,
    "editable": false
   },
   "source": [
    "<b>1.</b> You can import the libraries as shown below. Hit Run to ensure the libraries are imported successfully and without errros."
   ]
  },
  {
   "cell_type": "code",
   "execution_count": null,
   "metadata": {},
   "outputs": [],
   "source": [
    "%matplotlib inline\n",
    "from matplotlib import pyplot as plt\n",
    "import numpy as np\n",
    "import pandas as pd\n",
    "import statsmodels.api as sm\n",
    "from scipy import stats"
   ]
  },
  {
   "cell_type": "markdown",
   "metadata": {
    "deletable": false,
    "editable": false
   },
   "source": [
    "<b>2.</b> Print what versions of the pandas (pd) and numpy (np) are installed on this system. For numpy, see the example below and repeat for pandas."
   ]
  },
  {
   "cell_type": "code",
   "execution_count": null,
   "metadata": {},
   "outputs": [],
   "source": [
    "print(np.__version__)"
   ]
  },
  {
   "cell_type": "markdown",
   "metadata": {
    "deletable": false,
    "editable": false
   },
   "source": [
    "<b>3.</b> You can also import a Python file within the project directory. You have been provided with a Python script (<b>utils.py</b>) in the same directory as this assignment notebook. Import <b>utils</b> and call the <b>fib_n()</b> function with argument n to return the n'th Fibonnaci number. <br>\n",
    "Note that we restrict n <= 10 since this is function is for illustration only. <br>\n",
    "Print the the result for all $0 \\leq n \\leq 10$ and verify that the Fibonacci number sequence is correct."
   ]
  },
  {
   "cell_type": "code",
   "execution_count": null,
   "metadata": {},
   "outputs": [],
   "source": []
  },
  {
   "cell_type": "markdown",
   "metadata": {
    "deletable": false,
    "editable": false
   },
   "source": [
    "<b>4a.</b> You are provided with csv file with 100 observations of daily commute times (in minutes) for an individual. <br>\n",
    "The data file is called \"<b>data.csv</b>\". Read the csv as a pandas dataframe object by using the <b>read_csv()</b> function in pandas: https://pandas.pydata.org/pandas-docs/stable/generated/pandas.read_csv.html"
   ]
  },
  {
   "cell_type": "code",
   "execution_count": null,
   "metadata": {},
   "outputs": [],
   "source": []
  },
  {
   "cell_type": "markdown",
   "metadata": {
    "deletable": false,
    "editable": false
   },
   "source": [
    "<b>4b.</b> Print the total total number of observations in the dataframe. Confirm that it is 100."
   ]
  },
  {
   "cell_type": "code",
   "execution_count": null,
   "metadata": {},
   "outputs": [],
   "source": []
  },
  {
   "cell_type": "markdown",
   "metadata": {
    "deletable": false,
    "editable": false
   },
   "source": [
    "<b>4c.</b> Print the column names in the dataframe. Confirm that there is only one column."
   ]
  },
  {
   "cell_type": "code",
   "execution_count": null,
   "metadata": {},
   "outputs": [],
   "source": []
  },
  {
   "cell_type": "markdown",
   "metadata": {
    "deletable": false,
    "editable": false
   },
   "source": [
    "<b>4d.</b> Write a function called <b>mean(np_array)</b> which computes and then returns the sample average of a numpy array. <br>\n",
    "Call this function on the array of observations for commute_time and print the mean."
   ]
  },
  {
   "cell_type": "code",
   "execution_count": null,
   "metadata": {},
   "outputs": [],
   "source": []
  },
  {
   "cell_type": "markdown",
   "metadata": {
    "deletable": false,
    "editable": false
   },
   "source": [
    "<b>4e.</b> Now, print the sample average of the commute_time observations using numpy's <b>mean()</b> function. <br> Verify that your own <b>mean()</b> function produces the same sample average as numpy's <b>mean()</b> (up to at least 3 decimal places)."
   ]
  },
  {
   "cell_type": "code",
   "execution_count": null,
   "metadata": {},
   "outputs": [],
   "source": []
  },
  {
   "cell_type": "markdown",
   "metadata": {
    "deletable": false,
    "editable": false
   },
   "source": [
    "<b>4f.</b> Write a function called <b>sd(np_array)</b> which computes and then returns the population standard deviation of a numpy array. <br>\n",
    "Call this function on the array of observations for commute_time and print the population standard deviation."
   ]
  },
  {
   "cell_type": "code",
   "execution_count": null,
   "metadata": {},
   "outputs": [],
   "source": []
  },
  {
   "cell_type": "markdown",
   "metadata": {
    "deletable": false,
    "editable": false
   },
   "source": [
    "<b>4g.</b> Now, print the population standard deviation of the commute_time observations using numpy's <b>std()</b> function. <br>\n",
    "Confirm that your own std() function produces the same population average as numpy's <b>std()</b>, up to at least 3 decimal places. <br>\n",
    "Note: even though we do not require it here, you should read the <b>np.std()</b> documentation to understand how to compute the <b>sample</b> (unbiased) standard deviation (instead of the population standard deviation)."
   ]
  },
  {
   "cell_type": "code",
   "execution_count": null,
   "metadata": {},
   "outputs": [],
   "source": []
  },
  {
   "cell_type": "markdown",
   "metadata": {
    "deletable": false,
    "editable": false
   },
   "source": [
    "<b>4h.</b> Produce a histogram of the commute_time observations using the <b>hist()</b> function provided by matplotlib.pyplot: https://matplotlib.org/devdocs/api/_as_gen/matplotlib.pyplot.hist.html <br>\n",
    "Produce two histograms: one with 100 bins and 20 bins. Title your histograms appropriately.<br>\n",
    "<b>Note</b> that you should put a semi-colon (\";\") at the end of the hist command to ensure that the only output produced below is the histogram."
   ]
  },
  {
   "cell_type": "code",
   "execution_count": null,
   "metadata": {},
   "outputs": [],
   "source": []
  },
  {
   "cell_type": "markdown",
   "metadata": {
    "deletable": false,
    "editable": false
   },
   "source": [
    "<b>5a.</b> We wish to generate a sample consisting of <b>n</b> randomly drawn records from our data set. <br>\n",
    "Write a function <b>sample_n(np_array, n)</b> which  produces a random sample of length <b>n</b> (</b>with replacement</b>) of from the numpy array (<b>np_array</b>). <br>\n",
    "In each step of the iteration you draw an index at random, and all records in <b>np_array</b> are equally likely to be picked. This is called 'sampling with replacement': each record may get selected more than once. <br>\n",
    "At each drawing, you need to pick a random index (in the range 0: n-1, both inclusive) and pull the corresponding entry from the data array. You may find numpy's random.randint(n) to be useful in randomly selecting indices between 0 and n-1. For more info check: https://docs.scipy.org/doc/numpy-1.13.0/reference/generated/numpy.random.randint.html<br>\n",
    "Produce a random sample of size <b>N=50</b> and then report the mean and population standard deviation of the selected sample. <br>\n",
    "Use the <b>commute_time</b> array for input data"
   ]
  },
  {
   "cell_type": "code",
   "execution_count": null,
   "metadata": {},
   "outputs": [],
   "source": []
  },
  {
   "cell_type": "markdown",
   "metadata": {
    "deletable": false,
    "editable": false
   },
   "source": [
    "<b>5b.</b> Now write a function <b>repeat(np_array, N, n)</b> which will do the following: <br>\n",
    "It calls <b>sample_n()</b> <b>N</b> times, each producing a sample (<b>with replacement</b>) of length <b>n</b> from <b>np_array</b>. <br>\n",
    "For each of the <b>N</b> samples, compute the <b>mean</b> and <b>population standard deviation</b> and store them in two arrays. Return both the mean and standard deviation arrays (each of length = N). <br>\n",
    "Call the function <b>repeat()</b> with <b>N = 500</b> and <b>n = 100</b>, and <b>np_array = commute_time</b> array. Store the array of means as <b>mean_samples</b> and the array of standard deviations as <b>sd_samples</b>.<br>"
   ]
  },
  {
   "cell_type": "code",
   "execution_count": null,
   "metadata": {},
   "outputs": [],
   "source": []
  },
  {
   "cell_type": "markdown",
   "metadata": {
    "deletable": false,
    "editable": false
   },
   "source": [
    "<b>5c.</b> Print the mean of <b>mean_samples</b> and <b>sd_samples</b>."
   ]
  },
  {
   "cell_type": "code",
   "execution_count": null,
   "metadata": {},
   "outputs": [],
   "source": []
  },
  {
   "cell_type": "markdown",
   "metadata": {
    "deletable": false,
    "editable": false
   },
   "source": [
    "<b>5d.</b> Produce separate histograms of the <b>mean_samples</b> and <b>sd_samples</b>. Title your plots appropriately. <br>\n",
    "Set the number of <b>bins = 10</b>."
   ]
  },
  {
   "cell_type": "code",
   "execution_count": null,
   "metadata": {},
   "outputs": [],
   "source": []
  },
  {
   "cell_type": "markdown",
   "metadata": {
    "deletable": false,
    "editable": false
   },
   "source": [
    "<b>5e.</b> Repeat the same exercise (plot histograms of means and standard deviations) as above for <b>N=10000</b> and <b>n= 100</b>. What do you notice?"
   ]
  },
  {
   "cell_type": "code",
   "execution_count": null,
   "metadata": {},
   "outputs": [],
   "source": []
  },
  {
   "cell_type": "markdown",
   "metadata": {
    "deletable": false
   },
   "source": [
    "(Type your observation here and then press Run. Note that this \"cell\" is designated as Markdown instead of \"code\" so that you can type freely)."
   ]
  },
  {
   "cell_type": "markdown",
   "metadata": {
    "deletable": false,
    "editable": false
   },
   "source": [
    "<b>5f.</b> Now write a function <b>sample_n2(np_array, n, with_replacement)</b> which can produce a sample of length n <b>np_array</b> but produces a sample <b>without replacement</b> when <b>with_replacement = False</b>. It should default to <b>with_replacement = True</b> (where you can just call <b>sample_n(np_array, n)</b> from earlier).<br>\n",
    "Call the <b>sample_n2()</b> function on the with <b>n = 50</b> and <b>with_replacement=True</b> and separately for <b>with_replacement=False</b>. <br>\n",
    "Print the mean and standard deviation for both cases. Use the <b>commute_time array</b> for input data."
   ]
  },
  {
   "cell_type": "code",
   "execution_count": null,
   "metadata": {},
   "outputs": [],
   "source": []
  },
  {
   "cell_type": "markdown",
   "metadata": {
    "deletable": false,
    "editable": false
   },
   "source": [
    "<b>6. Submission </b><br>\n",
    "You will submit all computational parts of problem sets, and the mini-projects, in the following manner: <br>\n",
    "1. Complete the Assignment on this portal;\n",
    "2. Save your work (File > Save and Checkpoint);\n",
    "3. Download the Notebook (File > Download as > Notebook);\n",
    "4. Download the pdf (File > Download as > pdf via LaTex);\n",
    "5. Submit both the .ipynb and .pdf files on Stellar.\n",
    "   <br><b>Note</b>: if you have long sentences typed in \"Markdown\" mode for answers, you will see that the pdf is not well-formatted. To correct for it, please use the \"< br >\" HTML tag (without spaces) to break lines."
   ]
  }
 ],
 "metadata": {
  "celltoolbar": "Raw Cell Format",
  "kernelspec": {
   "display_name": "Python 2",
   "language": "python",
   "name": "python2"
  },
  "language_info": {
   "codemirror_mode": {
    "name": "ipython",
    "version": 2
   },
   "file_extension": ".py",
   "mimetype": "text/x-python",
   "name": "python",
   "nbconvert_exporter": "python",
   "pygments_lexer": "ipython2",
   "version": "2.7.14"
  }
 },
 "nbformat": 4,
 "nbformat_minor": 2
}
