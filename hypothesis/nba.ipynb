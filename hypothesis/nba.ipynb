{
 "cells": [
  {
   "cell_type": "markdown",
   "metadata": {},
   "source": [
    "# NBA2k\n",
    "In this assignment, you will work with the NBA dataset. This dataset is provided to you in the same directory as this notebook with the filename \"nba_data.csv\". You have also been provided with some utility functions in a file titled \"utils.py\" that you are free to use, as needed."
   ]
  },
  {
   "cell_type": "code",
   "execution_count": 3,
   "metadata": {},
   "outputs": [],
   "source": [
    "#Import the necessary libraries\n",
    "%matplotlib inline\n",
    "\n",
    "import matplotlib\n",
    "import numpy as np\n",
    "import matplotlib.pyplot as plt\n",
    "import utils"
   ]
  },
  {
   "cell_type": "markdown",
   "metadata": {},
   "source": [
    "<b>1. Data</b> <br>\n",
    "Read the data file (\"nba_data.csv\") as a pandas dataframe. <br>\n",
    "Hint: use the read_dataset_from_csv() function provided in utils.py. <br>\n",
    "Store the dataframe object in the variable df"
   ]
  },
  {
   "cell_type": "code",
   "execution_count": 4,
   "metadata": {},
   "outputs": [],
   "source": [
    "filename = 'nba_data.csv'\n",
    "df = utils.read_dataset_from_csv(filename)"
   ]
  },
  {
   "cell_type": "code",
   "execution_count": 7,
   "metadata": {},
   "outputs": [],
   "source": [
    "# We need to read date column as a datetime object (np.datetime64)\n",
    "df = utils.read_column_as_datetime(df, 'date', \"%A, %B %d, %Y\")"
   ]
  },
  {
   "cell_type": "markdown",
   "metadata": {},
   "source": [
    "(1a). How many total games are in the dataset?"
   ]
  },
  {
   "cell_type": "code",
   "execution_count": null,
   "metadata": {},
   "outputs": [],
   "source": []
  },
  {
   "cell_type": "markdown",
   "metadata": {},
   "source": [
    "(1b). How many columns are in the dataset? Print all the column names."
   ]
  },
  {
   "cell_type": "code",
   "execution_count": null,
   "metadata": {},
   "outputs": [],
   "source": []
  },
  {
   "cell_type": "markdown",
   "metadata": {},
   "source": [
    "(1c). Create new column for the difference between home and away score for each game. Add this column to the dataframe."
   ]
  },
  {
   "cell_type": "code",
   "execution_count": null,
   "metadata": {},
   "outputs": [],
   "source": []
  },
  {
   "cell_type": "markdown",
   "metadata": {},
   "source": [
    "(1d). Create new column for total score in each game. Add this column to the dataframe."
   ]
  },
  {
   "cell_type": "code",
   "execution_count": null,
   "metadata": {},
   "outputs": [],
   "source": []
  },
  {
   "cell_type": "markdown",
   "metadata": {},
   "source": [
    "(1e). Write a function called <b>weekend_new_column()</b> to create two new columns: <br>\n",
    "a. <b>'day_of_week'</b>: where Monday = 0, Tuesday = 1, ...., Sunday = 6 <br>\n",
    "b. <b>'weekend'</b>: if {Saturday or Sunday} then 1, else 0.<br>\n",
    "Feel free to use the function convert_to_datetime_from_numpy_datetime64() in utils.py. Also feel free to use numpy's datetime.datetime.weekday() function."
   ]
  },
  {
   "cell_type": "code",
   "execution_count": null,
   "metadata": {},
   "outputs": [],
   "source": [
    "def weekend_new_column():"
   ]
  },
  {
   "cell_type": "markdown",
   "metadata": {},
   "source": [
    "(1f). Use the <b>weekend_new_column()</b> function to add the two new columns (<b>day_of_week, weekend</b>) to the dataframe. "
   ]
  },
  {
   "cell_type": "code",
   "execution_count": null,
   "metadata": {},
   "outputs": [],
   "source": []
  },
  {
   "cell_type": "markdown",
   "metadata": {},
   "source": [
    "<b>2. Initial Exploration</b> <br>\n",
    "\n",
    "(2a). Compute the average total score per game for each season and then plot it (score vs season). <br>\n",
    "Start with season 1960 and end with season 2017.Comment on the general trends across all these years."
   ]
  },
  {
   "cell_type": "code",
   "execution_count": null,
   "metadata": {},
   "outputs": [],
   "source": []
  },
  {
   "cell_type": "markdown",
   "metadata": {},
   "source": [
    "(2b). Plot a histogram of the total scores per game.<br>\n",
    "We recommend you use 100 bins when displaying the histogram. Hint: check matplotlib's hist() function."
   ]
  },
  {
   "cell_type": "code",
   "execution_count": null,
   "metadata": {},
   "outputs": [],
   "source": []
  },
  {
   "cell_type": "markdown",
   "metadata": {},
   "source": [
    "(2c). Do you see any evidence of Normality/Gaussianity?"
   ]
  },
  {
   "cell_type": "markdown",
   "metadata": {},
   "source": [
    "(Yes/No)?"
   ]
  },
  {
   "cell_type": "markdown",
   "metadata": {},
   "source": [
    "(2d). Plot a Quantile-Quantile (QQ) Plot. <br>\n",
    "Hint: use the probplot function in scipy.stats with default values. <br>\n",
    "Does the distribution appear Gaussian? Where might the evidence be weak?"
   ]
  },
  {
   "cell_type": "code",
   "execution_count": null,
   "metadata": {},
   "outputs": [],
   "source": []
  },
  {
   "cell_type": "markdown",
   "metadata": {},
   "source": [
    "(Type answers to the questions above)"
   ]
  },
  {
   "cell_type": "markdown",
   "metadata": {},
   "source": [
    "<b>3. During the 1990s, did scoring become more conservative in the NBA?</b> <br>\n",
    "You might have noticed in your earlier plots that there appears to be a dip in average scores during the 1990s. We will try to test whether the difference is statistically significant."
   ]
  },
  {
   "cell_type": "markdown",
   "metadata": {},
   "source": [
    "(3a). Subset to use date ONLY from the season >= 1970 and < 2000. <br>\n",
    "<b>Use ONLY this subset for the parts in this section.</b>"
   ]
  },
  {
   "cell_type": "code",
   "execution_count": null,
   "metadata": {},
   "outputs": [],
   "source": [
    "df_subset = "
   ]
  },
  {
   "cell_type": "markdown",
   "metadata": {},
   "source": [
    "(3b). Split the dataset in two: <br>\n",
    "<b>df_subset_before</b>: all seasons < 1990 <br>\n",
    "<b>df_subset_after</br>: all seasons >= 1990"
   ]
  },
  {
   "cell_type": "code",
   "execution_count": null,
   "metadata": {},
   "outputs": [],
   "source": []
  },
  {
   "cell_type": "markdown",
   "metadata": {},
   "source": [
    "(3c). What is the Null Hypothesis if we want to test whether total points scored in a game have changed across the two periods?"
   ]
  },
  {
   "cell_type": "markdown",
   "metadata": {},
   "source": [
    "(Type the Null Hypothesis here)"
   ]
  },
  {
   "cell_type": "markdown",
   "metadata": {},
   "source": [
    "(3d). Print the mean total score before year 1990 and after year 1990 (inclusive)."
   ]
  },
  {
   "cell_type": "code",
   "execution_count": null,
   "metadata": {},
   "outputs": [],
   "source": []
  },
  {
   "cell_type": "markdown",
   "metadata": {},
   "source": [
    "(3e). Perform the 2-sample t-Test. Feel free to use the scipy.stats library to perform the t-test for independent samples."
   ]
  },
  {
   "cell_type": "code",
   "execution_count": null,
   "metadata": {},
   "outputs": [],
   "source": []
  },
  {
   "cell_type": "markdown",
   "metadata": {},
   "source": [
    "(3f). Would you accept or reject your Null-Hypothesis? Why?"
   ]
  },
  {
   "cell_type": "markdown",
   "metadata": {},
   "source": [
    "(Write your answer here)"
   ]
  },
  {
   "cell_type": "markdown",
   "metadata": {},
   "source": [
    "<b>4. Is there such a thing as Home Advantage?</b><br>\n",
    "We will use the NBA dataset to statistically determine whether there is such a thing a \"home-court\" advantage."
   ]
  },
  {
   "cell_type": "markdown",
   "metadata": {},
   "source": [
    "(4a). What is the mean difference between home team and away team score in the complete dataset? Print the mean."
   ]
  },
  {
   "cell_type": "code",
   "execution_count": null,
   "metadata": {},
   "outputs": [],
   "source": []
  },
  {
   "cell_type": "markdown",
   "metadata": {},
   "source": [
    "(4b). If you wanted to test whether there was a statisitcally significant home advantage, what would your Null Hypothesis be?"
   ]
  },
  {
   "cell_type": "markdown",
   "metadata": {},
   "source": [
    "(State your Null Hypothesis here)."
   ]
  },
  {
   "cell_type": "markdown",
   "metadata": {},
   "source": [
    "(4c). Conduct a one-sample t-Test to test your hypothesis. Feel free use the scipy.stats library to perform the t-test. <br>\n",
    "Print the t-statistic and the associated p-value."
   ]
  },
  {
   "cell_type": "code",
   "execution_count": null,
   "metadata": {},
   "outputs": [],
   "source": []
  },
  {
   "cell_type": "markdown",
   "metadata": {},
   "source": [
    "(4d). Conduct a two-sample t-Test for the difference  between home team and away team scores. Feel free to use the scipy.stats library to perform the t-test for related samples. <br>\n",
    "Print the t-statistic and the associated p-value."
   ]
  },
  {
   "cell_type": "code",
   "execution_count": null,
   "metadata": {},
   "outputs": [],
   "source": []
  },
  {
   "cell_type": "markdown",
   "metadata": {},
   "source": [
    "(4e). Do both your tests produce the same t-statistic? Is that expected or not?"
   ]
  },
  {
   "cell_type": "markdown",
   "metadata": {},
   "source": [
    "(State your answer here)"
   ]
  },
  {
   "cell_type": "markdown",
   "metadata": {},
   "source": [
    "(4f). What do both tests lead you to conclude about home court advantage?"
   ]
  },
  {
   "cell_type": "markdown",
   "metadata": {},
   "source": [
    "(State your conclusion here)"
   ]
  },
  {
   "cell_type": "markdown",
   "metadata": {},
   "source": [
    "<b>5. Is there a statistically significant difference in scoring between games over weekends and weekdays?</b><br>"
   ]
  },
  {
   "cell_type": "markdown",
   "metadata": {},
   "source": [
    "(5a). Plot the histogram of games played on weekends and weekdays."
   ]
  },
  {
   "cell_type": "code",
   "execution_count": null,
   "metadata": {},
   "outputs": [],
   "source": []
  },
  {
   "cell_type": "markdown",
   "metadata": {},
   "source": [
    "(5b). What are average scores for weekend vs weekday games? Print both."
   ]
  },
  {
   "cell_type": "code",
   "execution_count": null,
   "metadata": {},
   "outputs": [],
   "source": []
  },
  {
   "cell_type": "markdown",
   "metadata": {},
   "source": [
    "We want to test whether there is a statistical difference in total scores per game for games played on Weekends (Saturday, Sunday) vs on Weekdays (Mon-Fri). "
   ]
  },
  {
   "cell_type": "markdown",
   "metadata": {},
   "source": [
    "(5c). Split the complete dataset to a <b>weekend</b> and <b>weekday</b> subset. The weekend subset only has weekend games and the weekday subset should only have games played over the weekdays."
   ]
  },
  {
   "cell_type": "code",
   "execution_count": null,
   "metadata": {},
   "outputs": [],
   "source": []
  },
  {
   "cell_type": "markdown",
   "metadata": {},
   "source": [
    "(5d). What is the mean of the total points per game scored on weekends and weekdays? Print both."
   ]
  },
  {
   "cell_type": "code",
   "execution_count": null,
   "metadata": {},
   "outputs": [],
   "source": []
  },
  {
   "cell_type": "markdown",
   "metadata": {},
   "source": [
    "(5e). What is your null hypothesis to test whether the total points scores per game is different for weekend vs weekday games?"
   ]
  },
  {
   "cell_type": "markdown",
   "metadata": {},
   "source": [
    "(State your Null Hypothesis here)"
   ]
  },
  {
   "cell_type": "markdown",
   "metadata": {},
   "source": [
    "(5f). Perform a two-sample t-Test to test your null hypothesis? Feel free to use the scipy.stats library to perform the t-test for independent samples. <br>\n",
    "Print the t-statistic and the associated p-value."
   ]
  },
  {
   "cell_type": "code",
   "execution_count": null,
   "metadata": {},
   "outputs": [],
   "source": []
  },
  {
   "cell_type": "markdown",
   "metadata": {},
   "source": [
    "(5e). What would you conclude?"
   ]
  },
  {
   "cell_type": "markdown",
   "metadata": {},
   "source": [
    "(State your conclusion here)"
   ]
  },
  {
   "cell_type": "markdown",
   "metadata": {},
   "source": [
    "(5f). Plot the histogram of games played on each day of the week."
   ]
  },
  {
   "cell_type": "code",
   "execution_count": null,
   "metadata": {},
   "outputs": [],
   "source": []
  },
  {
   "cell_type": "markdown",
   "metadata": {},
   "source": [
    "(5g). What are the average total scores per game for each day of the week? Print all of them."
   ]
  },
  {
   "cell_type": "code",
   "execution_count": null,
   "metadata": {},
   "outputs": [],
   "source": []
  },
  {
   "cell_type": "markdown",
   "metadata": {},
   "source": [
    "(5h). Is there a day of the week that stands out?"
   ]
  },
  {
   "cell_type": "markdown",
   "metadata": {},
   "source": [
    "(State your answer here)"
   ]
  },
  {
   "cell_type": "markdown",
   "metadata": {},
   "source": [
    "(5i). Now modify your <b>weekend_new_column()</b> function above to exclude Monday from both weekend and weekdays e.g. let Monday be represented by weekend= -1. <br>\n",
    "Perform the same test as above (for the weekend vs weekday scoring differences).<br>\n",
    "Print the t-statistic and the associated p-value."
   ]
  },
  {
   "cell_type": "code",
   "execution_count": null,
   "metadata": {},
   "outputs": [],
   "source": []
  },
  {
   "cell_type": "markdown",
   "metadata": {},
   "source": [
    "(5j). Does your conclusion change?"
   ]
  },
  {
   "cell_type": "markdown",
   "metadata": {},
   "source": [
    "(State your answer here)"
   ]
  },
  {
   "cell_type": "markdown",
   "metadata": {},
   "source": [
    "<b>6. Are teams more conservative (in scoring) during the Playoffs vs Regular season?</b><br>\n",
    "We will test this using familiar statistical techniques."
   ]
  },
  {
   "cell_type": "markdown",
   "metadata": {},
   "source": [
    "(6a). Produce two subsets of the data:<br>\n",
    "<b>df_subset_playoffs</b>: all games played between April (month=4) and June (month=6), both inclusive.<br>\n",
    "<b>df_subset_regular</b>: all games played between September(month=9) and February(month=2), both inclusive. <br>\n",
    "Note that we exclude March for simplicity and to avoid ambiguity."
   ]
  },
  {
   "cell_type": "code",
   "execution_count": null,
   "metadata": {},
   "outputs": [],
   "source": []
  },
  {
   "cell_type": "markdown",
   "metadata": {},
   "source": [
    "(6b). What is the total number of Playoff and Regular games in your dataset? Print both."
   ]
  },
  {
   "cell_type": "code",
   "execution_count": null,
   "metadata": {},
   "outputs": [],
   "source": []
  },
  {
   "cell_type": "markdown",
   "metadata": {},
   "source": [
    "(6c). What is the mean total score per game for Playoffs and Regular season? Print both."
   ]
  },
  {
   "cell_type": "code",
   "execution_count": null,
   "metadata": {},
   "outputs": [],
   "source": []
  },
  {
   "cell_type": "markdown",
   "metadata": {},
   "source": [
    "(6d). What is your Null Hypothesis if you want to test whether the total points scored per game is different for Playoffs as compared to the Regular season?"
   ]
  },
  {
   "cell_type": "markdown",
   "metadata": {},
   "source": [
    "(State your Null Hypothesis here)"
   ]
  },
  {
   "cell_type": "markdown",
   "metadata": {},
   "source": [
    "(6e). Perform a two-sample t-Test to test your null hypothesis. Feel free to use the scipy.stats library to perform the t-test for independent samples.<br>\n",
    "Print the t-statistic and the associated p-value."
   ]
  },
  {
   "cell_type": "code",
   "execution_count": null,
   "metadata": {},
   "outputs": [],
   "source": []
  },
  {
   "cell_type": "markdown",
   "metadata": {},
   "source": [
    "(6f). What is your conclusion about Regular season scoring vs scoring in Playoffs? Does your conclusion appeal to your intuition?"
   ]
  },
  {
   "cell_type": "markdown",
   "metadata": {},
   "source": [
    "(State your answers here)"
   ]
  },
  {
   "cell_type": "markdown",
   "metadata": {},
   "source": [
    "(6g). Now, plot the average scores during playoffs and regular season on the same plot for every season starting 1950 and ending in 2017 (both inclusive). What do you notice?"
   ]
  },
  {
   "cell_type": "code",
   "execution_count": null,
   "metadata": {},
   "outputs": [],
   "source": []
  },
  {
   "cell_type": "markdown",
   "metadata": {},
   "source": [
    "(State what you notice here)"
   ]
  },
  {
   "cell_type": "markdown",
   "metadata": {},
   "source": [
    "(6h). Repeat the hypothesis test discussed above for seasons 2000 and later only. Does your earlier conclusion change? "
   ]
  },
  {
   "cell_type": "code",
   "execution_count": null,
   "metadata": {},
   "outputs": [],
   "source": []
  },
  {
   "cell_type": "markdown",
   "metadata": {},
   "source": [
    "(State whether your conclusion changes)"
   ]
  },
  {
   "cell_type": "markdown",
   "metadata": {},
   "source": [
    "<b>7. The Michael Jordan Effect.</b><br>\n",
    "Widely regarded as the all-time greatest players in the history of the NBA, Michael Jordan led the Chicago Bulls to six championships (1991-93 and 1996-98). The other constants during the 1991-1998 Bulls era were hall of famer Scottie Pipen and coach Phil Jackson. We would like to study whether Jordan's presence on the team was (statistically) significant in bringing the championships to the Bulls. <br>\n",
    "Conveniently (for us), Jordan retired from basketball after winning three consecutive NBA championships with the Chicago Bulls. He retired ahead of the 1994 season but returned back from retirement late during the 1995 season to eventually lead the Bulls to three more titles in the 1996, 1997, 1998 seasons. <br>\n",
    "During his absence, both Pipen and Jackson were still at the Bulls, allowing us to study the impact of Michael Jordan's absence on the Chicago Bulls' performance."
   ]
  },
  {
   "cell_type": "markdown",
   "metadata": {},
   "source": [
    "(7a). Produce a subset of the data which includes the following seasons only: 1992-1997. Additionally, the subset should only include games (home or away) featuring 'Chicago Bulls'."
   ]
  },
  {
   "cell_type": "code",
   "execution_count": null,
   "metadata": {},
   "outputs": [],
   "source": []
  },
  {
   "cell_type": "markdown",
   "metadata": {},
   "source": [
    "(7b). # Create three new columns on the subset as follows: <br>\n",
    "1. <b>for_score</b>: points scored by the Chicago Bulls (home or away) in the seasons 1992-1997. <br>\n",
    "2. <b>against_score</b>: points scored against the Chicago Bulls (home or away) in the seasons 1992-1997. <br>\n",
    "3. <b>net_score</b>: net score by the Chicago Bulls (home or away) in the seasons 1992-1997."
   ]
  },
  {
   "cell_type": "code",
   "execution_count": null,
   "metadata": {},
   "outputs": [],
   "source": []
  },
  {
   "cell_type": "markdown",
   "metadata": {},
   "source": [
    "(7c). Using the subset above, produce two disjoint subsets as follows: <br> \n",
    "<b>df_subset_jordan</b>: includes seasons 1992, 1993, 1996, 1997 (we leave 1994 and 1995 out). <br>\n",
    "<b>df_subset_no_jordan</b>: includes seasons 1994, 1995 only."
   ]
  },
  {
   "cell_type": "code",
   "execution_count": null,
   "metadata": {},
   "outputs": [],
   "source": []
  },
  {
   "cell_type": "markdown",
   "metadata": {},
   "source": [
    "(7d). What is the null hypothesis if we want to test whether the <b>for_score, against_score</b> and/or <b>net_score</b> for the Chicago Bulls were different during the Jordan seasons ('92, '93, '96, '97) and the seasons without him ('94, '95) in the period 1992-1997?"
   ]
  },
  {
   "cell_type": "markdown",
   "metadata": {},
   "source": [
    "(State your Null Hypothesis here)"
   ]
  },
  {
   "cell_type": "markdown",
   "metadata": {},
   "source": [
    "(7e). Produce the mean for_score by the Chicago Bulls during the Jordan seasons and the seasons without him. Print both."
   ]
  },
  {
   "cell_type": "code",
   "execution_count": null,
   "metadata": {},
   "outputs": [],
   "source": []
  },
  {
   "cell_type": "markdown",
   "metadata": {},
   "source": [
    "(7f). Conduct a two-sample t-Test for differences between the <b>for_score</b> during the Michael Jordan seasons and seasons without him. Feel free to use the scipy.stats library to perform the t-test for independent samples. <br>\n",
    "Print the t-statistic and the associated p-value."
   ]
  },
  {
   "cell_type": "code",
   "execution_count": null,
   "metadata": {},
   "outputs": [],
   "source": []
  },
  {
   "cell_type": "markdown",
   "metadata": {},
   "source": [
    "(7g).Repeat the above exercive for the <b>against_score</b>. Print the t-statistic and the associated p-value."
   ]
  },
  {
   "cell_type": "code",
   "execution_count": null,
   "metadata": {},
   "outputs": [],
   "source": []
  },
  {
   "cell_type": "markdown",
   "metadata": {},
   "source": [
    "(7h). What would you conclude based on the two tests?"
   ]
  },
  {
   "cell_type": "markdown",
   "metadata": {},
   "source": [
    "(State your conclusion here)"
   ]
  },
  {
   "cell_type": "markdown",
   "metadata": {},
   "source": [
    "(7i). Repeat the above test for <b>net_score</b>/. Print the t-statisitc and the associated p-value."
   ]
  },
  {
   "cell_type": "code",
   "execution_count": null,
   "metadata": {},
   "outputs": [],
   "source": []
  },
  {
   "cell_type": "markdown",
   "metadata": {},
   "source": [
    "(7j). Does this test confirm the conclusion you reached based on the earlier two tests?"
   ]
  },
  {
   "cell_type": "markdown",
   "metadata": {},
   "source": [
    "(State your conclusion here)"
   ]
  },
  {
   "cell_type": "markdown",
   "metadata": {},
   "source": [
    "(7k). While Scottie Pipen and Phil Jackson were constants during the entire period 1992-1998, can you think of reasons to cast doubt on the conclusions reached by the tests?"
   ]
  },
  {
   "cell_type": "markdown",
   "metadata": {},
   "source": [
    "(State your answer here)"
   ]
  }
 ],
 "metadata": {
  "kernelspec": {
   "display_name": "Python 3",
   "language": "python",
   "name": "python3"
  },
  "language_info": {
   "codemirror_mode": {
    "name": "ipython",
    "version": 3
   },
   "file_extension": ".py",
   "mimetype": "text/x-python",
   "name": "python",
   "nbconvert_exporter": "python",
   "pygments_lexer": "ipython3",
   "version": "3.6.3"
  }
 },
 "nbformat": 4,
 "nbformat_minor": 2
}
