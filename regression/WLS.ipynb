{
 "cells": [
  {
   "cell_type": "markdown",
   "metadata": {},
   "source": [
    "# Weighted Least Squares (WLS) Regression\n",
    "In this exercise we will study the impact of hetereoskedasticity (non-constant variance) of errors and a possible approach to rectify the Ordinary Least Squares (OLS) model.<br>\n",
    "For this exercise, the dataset is made available as 'wls_data.csv' in the same directory as this notebook. The data file contains two observed variables: 'x' and 'y'.<br>\n",
    "The goal of this exercise is to estimate the regression coefficients for a single-variable linear model between y and x with independent errors: <br>\n",
    "$y_i = \\beta_0 + \\beta_1 x_i + e_i$, where <br>\n",
    "$e_i$ is independent, Normal noise with $E[e_i | x_i] = 0$."
   ]
  },
  {
   "cell_type": "code",
   "execution_count": 1,
   "metadata": {},
   "outputs": [],
   "source": [
    "# import libraries\n",
    "#Import the necessary libraries\n",
    "%matplotlib inline\n",
    "\n",
    "from matplotlib import pyplot as plt\n",
    "import numpy as np\n",
    "import statsmodels.api as sm\n",
    "from scipy import stats\n",
    "import csv\n",
    "\n",
    "# read the data\n",
    "filen = 'wls_data.csv'\n",
    "\n",
    "# read the data (x, y)\n",
    "x = []\n",
    "y = []\n",
    "# read from file\n",
    "with open(filen) as csvfile:\n",
    "    reader = csv.DictReader(csvfile)\n",
    "    for row in reader:\n",
    "        x.append(float(row['x']))\n",
    "        y.append(float(row['y']))\n",
    "\n",
    "N = len(x)"
   ]
  },
  {
   "cell_type": "markdown",
   "metadata": {},
   "source": [
    "<b>1. OLS Regression</b><br>\n",
    "We will first build an OLS regression model. Note that we expect the estimated co-efficients, $\\hat{\\beta_0}, \\hat{\\beta_1}$, to be unbiased estimators of $\\beta_0, \\beta_1$, due to the assumed properties of the errors. However, note that we have <b>not</b> assumed homoskedasticity (constant variance) of noise terms."
   ]
  },
  {
   "cell_type": "markdown",
   "metadata": {},
   "source": [
    "(1a). Run an OLS regression (using the <b>statsmodels.OLS</b> library) with: <br>\n",
    "y as the dependent variable, <br>\n",
    "x as the independent variable (with intercept)\n",
    "You should add a constant to x using the <b>add_constant()</b> function in statsmodels.<br>\n",
    "Save the model as <b>ols_model</b>"
   ]
  },
  {
   "cell_type": "code",
   "execution_count": null,
   "metadata": {},
   "outputs": [],
   "source": []
  },
  {
   "cell_type": "markdown",
   "metadata": {},
   "source": [
    "(1b). Fit the model using <b>ols_model.fit()</b> and save the result as <b>ols_results</b>."
   ]
  },
  {
   "cell_type": "code",
   "execution_count": null,
   "metadata": {},
   "outputs": [],
   "source": []
  },
  {
   "cell_type": "markdown",
   "metadata": {},
   "source": [
    "(1c). Print the summary by calling <b>ols_results.summary()</b>. Comment on the statistical significance of the parameters."
   ]
  },
  {
   "cell_type": "code",
   "execution_count": null,
   "metadata": {},
   "outputs": [],
   "source": []
  },
  {
   "cell_type": "markdown",
   "metadata": {},
   "source": [
    "(Type you comments on the statistical significance of the coefficients here)"
   ]
  },
  {
   "cell_type": "markdown",
   "metadata": {},
   "source": [
    "(1d). Produce the in-sample predictions, and store them as <b>ols_y_hat</b>. Use <b>predict()</b> function with the parameters from <b>ols_results</b>. <br>\n",
    "Check: http://www.statsmodels.org/dev/generated/statsmodels.regression.linear_model.OLS.predict.html"
   ]
  },
  {
   "cell_type": "code",
   "execution_count": null,
   "metadata": {},
   "outputs": [],
   "source": []
  },
  {
   "cell_type": "markdown",
   "metadata": {},
   "source": [
    "(1e). Compute the residuals. Store them as <b>ols_residuals</b>."
   ]
  },
  {
   "cell_type": "code",
   "execution_count": null,
   "metadata": {},
   "outputs": [],
   "source": []
  },
  {
   "cell_type": "markdown",
   "metadata": {},
   "source": [
    "(1f). On the same plot, produce the following:\n",
    "1. Scatter plot of the data (x, y) <br>\n",
    "2. Plot (or scatter plot) of (x, ols_y_hat) <br>\n",
    "Label your plot and axes."
   ]
  },
  {
   "cell_type": "code",
   "execution_count": null,
   "metadata": {},
   "outputs": [],
   "source": []
  },
  {
   "cell_type": "markdown",
   "metadata": {},
   "source": [
    "(1g). Comment on the fit produced."
   ]
  },
  {
   "cell_type": "markdown",
   "metadata": {},
   "source": [
    "(Type your comments here)"
   ]
  },
  {
   "cell_type": "markdown",
   "metadata": {},
   "source": [
    "(1h). Produce a scatter plot of the residuals vs 'x'. Label your plot and axes."
   ]
  },
  {
   "cell_type": "code",
   "execution_count": null,
   "metadata": {},
   "outputs": [],
   "source": []
  },
  {
   "cell_type": "markdown",
   "metadata": {},
   "source": [
    "(1i). What does this plot show? Is there evidence of constant variance (or otherwise)?"
   ]
  },
  {
   "cell_type": "markdown",
   "metadata": {},
   "source": [
    "(Type your answer here)"
   ]
  },
  {
   "cell_type": "markdown",
   "metadata": {},
   "source": [
    "(1j). Now produce a QQ-plot of the residuals vs the Normal distribution. You can use the <b>probplot()</b> function in the <b>Scipy.stats</b> library using default options."
   ]
  },
  {
   "cell_type": "code",
   "execution_count": null,
   "metadata": {},
   "outputs": [],
   "source": []
  },
  {
   "cell_type": "markdown",
   "metadata": {},
   "source": [
    "(1k). Do the residuals appear Normally distributed?"
   ]
  },
  {
   "cell_type": "markdown",
   "metadata": {},
   "source": [
    "(Type your answer here)"
   ]
  },
  {
   "cell_type": "markdown",
   "metadata": {},
   "source": [
    "<b>2. Weights Least Squares (WLS)</b><br>\n",
    "Given the apparent heteroskedasticity, we will look to Weighted Least Squares to produce estimates of the parameters and the standard errors. Refer to the theory problem set for a detailed theoretical development of WLS estimation. In this case, we are not provided information about the variance of each data point. Therefore, we face the harder problem of first having to produce estimates of the appropriate weights to eliminate hetereoskedasticity."
   ]
  },
  {
   "cell_type": "markdown",
   "metadata": {},
   "source": [
    "(2a). Write a function <b>estW()</b> which takes as input the following: <br><br>\n",
    "1. An array of OLS residuals <br>\n",
    "2. An array of 'x' values (corresponding to each residual) <br>\n",
    "\n",
    "This function should return an array of estimates of the weights for each data point, i. <br>\n",
    "\n",
    "Details:<br>\n",
    "<b>estW(residuals, x)</b> should do the following: <br>\n",
    "Regress (OLS) residuals^2 against x^2 and a constant. <br>\n",
    "Using the regression parameters, produce estimates of the residuals^2. Return these estimates of the residuals^2. These estimates are the estimates of the variance (true values of which are unknown) for each data point."
   ]
  },
  {
   "cell_type": "code",
   "execution_count": 2,
   "metadata": {},
   "outputs": [
    {
     "ename": "SyntaxError",
     "evalue": "unexpected EOF while parsing (<ipython-input-2-d856550e6fe6>, line 1)",
     "output_type": "error",
     "traceback": [
      "\u001b[0;36m  File \u001b[0;32m\"<ipython-input-2-d856550e6fe6>\"\u001b[0;36m, line \u001b[0;32m1\u001b[0m\n\u001b[0;31m    def estW(residuals, x): # complete the rest of the function\u001b[0m\n\u001b[0m                                                               ^\u001b[0m\n\u001b[0;31mSyntaxError\u001b[0m\u001b[0;31m:\u001b[0m unexpected EOF while parsing\n"
     ]
    }
   ],
   "source": [
    "def estW(residuals, x): \n",
    "    # complete the rest of the function\n",
    "    # returns estimates of variance for each data point"
   ]
  },
  {
   "cell_type": "markdown",
   "metadata": {},
   "source": [
    "(2b). Use the <b>estW(ols_residuals, x)</b> function to produce the estimates of the variances. Save these estimates as <b>sig_est</b>"
   ]
  },
  {
   "cell_type": "code",
   "execution_count": null,
   "metadata": {},
   "outputs": [],
   "source": []
  },
  {
   "cell_type": "markdown",
   "metadata": {},
   "source": [
    "(2c). On the same plot, produce the following in different colors: <br>\n",
    "1. Scatter Plot of the absolute values of ols_residuals against x. <br>\n",
    "2. Plot (or scatterplot) of the square root of the variance estimates, i.e. each $\\sqrt{\\text{sig_est}_i}$ against $x_i$. <br>\n",
    "Label the plots and axes clearly."
   ]
  },
  {
   "cell_type": "code",
   "execution_count": null,
   "metadata": {},
   "outputs": [],
   "source": []
  },
  {
   "cell_type": "markdown",
   "metadata": {},
   "source": [
    "(2d). What does the plot above show? Do you think the estimated residuals make sense?"
   ]
  },
  {
   "cell_type": "markdown",
   "metadata": {},
   "source": [
    "(Type your answer here)"
   ]
  },
  {
   "cell_type": "markdown",
   "metadata": {},
   "source": [
    "(2e). Now we will use the estimates of the variances to determine the weights to be used for WLS. <br>\n",
    "Compute the weights for each point as the reciprocal of the <b>square-root of variance estimates</b>.<br>\n",
    "Store the weights as <b>weights</b>."
   ]
  },
  {
   "cell_type": "code",
   "execution_count": null,
   "metadata": {},
   "outputs": [],
   "source": []
  },
  {
   "cell_type": "markdown",
   "metadata": {},
   "source": [
    "(2e). Produce the following variables: <br>\n",
    "i. <b>X</b> = independent variable (x) and a constant (use add_constant(x) from the statsmodels library). <br>\n",
    "ii. <b>W</b> = a diagonal matrix of weights using the <b>weights</b> array.<br>\n",
    "iii. <b>X_w</b> = the product of W and X. <br>\n",
    "iv. <b>y_w</b> = the product of W and Y. <br>"
   ]
  },
  {
   "cell_type": "code",
   "execution_count": null,
   "metadata": {},
   "outputs": [],
   "source": []
  },
  {
   "cell_type": "markdown",
   "metadata": {},
   "source": [
    "(2f). Run an OLS regression (using the <b>statsmodels.OLS</b> library) with <b>y_w</b> and <b>X_w</b>. Save your model as <b>wls_model</b>."
   ]
  },
  {
   "cell_type": "code",
   "execution_count": null,
   "metadata": {},
   "outputs": [],
   "source": []
  },
  {
   "cell_type": "markdown",
   "metadata": {},
   "source": [
    "(2e). Similar to the OLS exercise above, produce the fit, in-sample predictions and residuals. <br>\n",
    "Save them as <b>wls_results, wls_y_hat, wls_residuals</b>, respectively."
   ]
  },
  {
   "cell_type": "code",
   "execution_count": null,
   "metadata": {},
   "outputs": [],
   "source": []
  },
  {
   "cell_type": "markdown",
   "metadata": {},
   "source": [
    "(2f). Print the summary of this regression. Comment on the statistical significance of the parameters and contrast them to the simple OLS model earlier."
   ]
  },
  {
   "cell_type": "code",
   "execution_count": null,
   "metadata": {},
   "outputs": [],
   "source": []
  },
  {
   "cell_type": "markdown",
   "metadata": {},
   "source": [
    "(Type your comments here)"
   ]
  },
  {
   "cell_type": "markdown",
   "metadata": {},
   "source": [
    "(2g). Show the scatter plot of these <b>wls_residuals</b> vs x. Is there continued evidence of hetereoskedasticity?"
   ]
  },
  {
   "cell_type": "code",
   "execution_count": null,
   "metadata": {},
   "outputs": [],
   "source": []
  },
  {
   "cell_type": "markdown",
   "metadata": {},
   "source": [
    "(Type your answer here)"
   ]
  },
  {
   "cell_type": "markdown",
   "metadata": {},
   "source": [
    "(2h). Produce the QQ-plot of the <b>wls_residuals</b> vs the Normal distribution."
   ]
  },
  {
   "cell_type": "code",
   "execution_count": null,
   "metadata": {},
   "outputs": [],
   "source": []
  },
  {
   "cell_type": "markdown",
   "metadata": {},
   "source": [
    "(2i). Compared to the OLS residuals, is the Normal fit better? If so, how?"
   ]
  },
  {
   "cell_type": "markdown",
   "metadata": {},
   "source": [
    "(Type your answer here)"
   ]
  },
  {
   "cell_type": "markdown",
   "metadata": {},
   "source": [
    "(2j). Transform the WLS predictions (<b>wls_y_hat</b>) to the same scale as the original variable (<b>y</b>).<br>\n",
    "Save the transformation as <b>wls_y_hat_transformed</b>. <br>\n",
    "Hint: wls_y_hat_transformed $ = W^{-1}(\\text{wls_y_hat})$"
   ]
  },
  {
   "cell_type": "code",
   "execution_count": null,
   "metadata": {},
   "outputs": [],
   "source": []
  },
  {
   "cell_type": "markdown",
   "metadata": {},
   "source": [
    "(2k). On the same plot, produce in different colors: <br>\n",
    "1. Scatter plot of the observed data (x, y) <br>\n",
    "2. Plot (or scatterplot) (x, wls_y_hat_w_transformed) <br>\n",
    "Label your plots and axes clearly."
   ]
  },
  {
   "cell_type": "code",
   "execution_count": null,
   "metadata": {},
   "outputs": [],
   "source": []
  },
  {
   "cell_type": "markdown",
   "metadata": {},
   "source": [
    "(2l). Using the WLS regression summaries and the plots, contrast the regression fit for both the OLS and WLS cases:<br>\n",
    "i. Are the coefficient estimates much different? Is that what you had expected? <br>\n",
    "ii. Are the standard errors different? Is that what you had expected?"
   ]
  },
  {
   "cell_type": "code",
   "execution_count": null,
   "metadata": {},
   "outputs": [],
   "source": []
  }
 ],
 "metadata": {
  "kernelspec": {
   "display_name": "Python 3",
   "language": "python",
   "name": "python3"
  },
  "language_info": {
   "codemirror_mode": {
    "name": "ipython",
    "version": 3
   },
   "file_extension": ".py",
   "mimetype": "text/x-python",
   "name": "python",
   "nbconvert_exporter": "python",
   "pygments_lexer": "ipython3",
   "version": "3.6.3"
  }
 },
 "nbformat": 4,
 "nbformat_minor": 2
}
