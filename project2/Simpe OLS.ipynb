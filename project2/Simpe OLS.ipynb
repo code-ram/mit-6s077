{
 "cells": [
  {
   "cell_type": "markdown",
   "metadata": {
    "deletable": false,
    "editable": false
   },
   "source": [
    "# Ordinary Least Squares Regression\n",
    "In this exercise, we will build simple OLS Regression models, both single and multivariable. We will also evaluate the goodness of fit of our simple models.\n",
    "For this exercise, we will be using the Auto dataset. It is provided as <b>Auto.csv</b> in the same folder as this notebook."
   ]
  },
  {
   "cell_type": "code",
   "execution_count": null,
   "metadata": {},
   "outputs": [],
   "source": [
    "#Import the necessary libraries\n",
    "%matplotlib inline\n",
    "\n",
    "from matplotlib import pyplot as plt\n",
    "import utils\n",
    "import numpy as np\n",
    "import statsmodels.api as sm\n",
    "from scipy import stats"
   ]
  },
  {
   "cell_type": "markdown",
   "metadata": {
    "deletable": false,
    "editable": false
   },
   "source": [
    "Read the data as a pandas dataframe. For refernece: https://pandas.pydata.org/pandas-docs/stable/generated/pandas.DataFrame.html"
   ]
  },
  {
   "cell_type": "code",
   "execution_count": 2,
   "metadata": {},
   "outputs": [],
   "source": [
    "# Read the data\n",
    "filename = 'Auto.csv'\n",
    "df = utils.read_dataset_from_csv(filename)"
   ]
  },
  {
   "cell_type": "markdown",
   "metadata": {
    "deletable": false,
    "editable": false
   },
   "source": [
    "(0a). Print the number of observations in the dataset. "
   ]
  },
  {
   "cell_type": "code",
   "execution_count": null,
   "metadata": {},
   "outputs": [],
   "source": []
  },
  {
   "cell_type": "markdown",
   "metadata": {
    "deletable": false,
    "editable": false
   },
   "source": [
    "(0b). Print all the columns in the dataset"
   ]
  },
  {
   "cell_type": "code",
   "execution_count": null,
   "metadata": {},
   "outputs": [],
   "source": []
  },
  {
   "cell_type": "markdown",
   "metadata": {
    "deletable": false,
    "editable": false
   },
   "source": [
    "(0c).Produce a Scatter plot of all variables against each other. <br> \n",
    "Feel free to use the <b>scatter_plot_dataframe()</b> function in utils.py. <br>\n",
    "Note: this function call may take a while."
   ]
  },
  {
   "cell_type": "code",
   "execution_count": null,
   "metadata": {},
   "outputs": [],
   "source": []
  },
  {
   "cell_type": "markdown",
   "metadata": {
    "deletable": false,
    "editable": false
   },
   "source": [
    "(0d). Produce a plot of correaltions between all variables. <br>\n",
    "Feel free to use the <b>correlation_plot()</b> function in utils.py"
   ]
  },
  {
   "cell_type": "code",
   "execution_count": null,
   "metadata": {},
   "outputs": [],
   "source": []
  },
  {
   "cell_type": "markdown",
   "metadata": {
    "deletable": false,
    "editable": false
   },
   "source": [
    "(0e). Using the plots above, can you identify the highly collinear pairs of variables? "
   ]
  },
  {
   "cell_type": "markdown",
   "metadata": {},
   "source": [
    "(Provide pairs of highly collinear columns/variables here)"
   ]
  },
  {
   "cell_type": "markdown",
   "metadata": {
    "deletable": false,
    "editable": false
   },
   "source": [
    "(0f). Produce two subsets of your data: a random subset for training and the remaining for testing. Note that the subsets MUST not overlap (i.e. if you use sampling then do so without-replacement). You should have roughly 70% of the data in training and the remaining roughly 30% in testing. Name your datasets as <b>df_train</b> and <b>df_test</b>."
   ]
  },
  {
   "cell_type": "code",
   "execution_count": null,
   "metadata": {},
   "outputs": [],
   "source": []
  },
  {
   "cell_type": "markdown",
   "metadata": {
    "deletable": false,
    "editable": false
   },
   "source": [
    "<b> (1). Single Variable OLS Regression.</b> <br>\n",
    "We will start with a single variable regression model. We hypothesize a simple linear relationship (with intercept) between 'mpg' and 'horsepower'"
   ]
  },
  {
   "cell_type": "markdown",
   "metadata": {
    "deletable": false,
    "editable": false
   },
   "source": [
    "(1a). On <b>df_train</b> ONLY, build a simple OLS model using <b>statsmodels.OLS</b> <br>\n",
    "Your dependent variable is 'mpg'; <br>\n",
    "Independent variable is 'horsepower'. <br>\n",
    "Do include the  intercept using the add_constant() function in statsmodels. <br>\n",
    "Hint: http://www.statsmodels.org/dev/generated/statsmodels.regression.linear_model.OLS.html <br>\n",
    "Store your single-variable model in a variable called <b>sv_model</b>"
   ]
  },
  {
   "cell_type": "code",
   "execution_count": null,
   "metadata": {},
   "outputs": [],
   "source": []
  },
  {
   "cell_type": "markdown",
   "metadata": {
    "deletable": false,
    "editable": false
   },
   "source": [
    "(1b). Use statsmodels' <b>fit()</b> function to fit the model. Store the output in a variable called <b>sv_results</b>"
   ]
  },
  {
   "cell_type": "code",
   "execution_count": null,
   "metadata": {},
   "outputs": [],
   "source": []
  },
  {
   "cell_type": "markdown",
   "metadata": {
    "deletable": false,
    "editable": false
   },
   "source": [
    "(1c). Print a summary of the results by calling <b>summary()</b> on the result from <b>fit()</b>.<br> \n",
    "You can pass an array of columns as <b>xname</b> to show the column names in the output"
   ]
  },
  {
   "cell_type": "code",
   "execution_count": null,
   "metadata": {},
   "outputs": [],
   "source": []
  },
  {
   "cell_type": "markdown",
   "metadata": {
    "deletable": false,
    "editable": false
   },
   "source": [
    "(1d). Interpret the Results: <br>\n",
    "i. Are the intercept and 'horsepower' statistically significant? <br>\n",
    "ii. What is the R^2 (goodness of fit)?"
   ]
  },
  {
   "cell_type": "markdown",
   "metadata": {},
   "source": [
    "(Type your answer here)"
   ]
  },
  {
   "cell_type": "markdown",
   "metadata": {
    "deletable": false,
    "editable": false
   },
   "source": [
    "(1e). Produce in-sample predictions using the regression relationship. Call the <b>predict()</b> function on <b>sv_results</b>.\n",
    "Store your predictions as <b>sv_y_hat</b>."
   ]
  },
  {
   "cell_type": "code",
   "execution_count": null,
   "metadata": {},
   "outputs": [],
   "source": []
  },
  {
   "cell_type": "markdown",
   "metadata": {
    "deletable": false,
    "editable": false
   },
   "source": [
    "(1f). On the same plot (using different colors): <br>\n",
    "1. Produce a scatter plot 'mpg' vs 'horsepower'; <br>\n",
    "2. Produce a plot (or scatterplot) of predictions (i.e. y_hat), 'horsepower'. <br>\n",
    "Label your plots and axes. "
   ]
  },
  {
   "cell_type": "code",
   "execution_count": null,
   "metadata": {},
   "outputs": [],
   "source": []
  },
  {
   "cell_type": "markdown",
   "metadata": {
    "deletable": false,
    "editable": false
   },
   "source": [
    "(1g). Does the best fit line appear to do justice to the data?"
   ]
  },
  {
   "cell_type": "markdown",
   "metadata": {},
   "source": [
    "(Type your answer here.)"
   ]
  },
  {
   "cell_type": "markdown",
   "metadata": {
    "deletable": false,
    "editable": false
   },
   "source": [
    "(1h). Produce the residuals between observed mpg and in-sample predictions. Store them as <b>sv_residuals</b>."
   ]
  },
  {
   "cell_type": "code",
   "execution_count": null,
   "metadata": {},
   "outputs": [],
   "source": []
  },
  {
   "cell_type": "markdown",
   "metadata": {
    "deletable": false,
    "editable": false
   },
   "source": [
    "(1i). Produce a scatter plot of the residuals vs 'horsepower'. Label your plot and axes."
   ]
  },
  {
   "cell_type": "code",
   "execution_count": null,
   "metadata": {},
   "outputs": [],
   "source": []
  },
  {
   "cell_type": "markdown",
   "metadata": {
    "deletable": false,
    "editable": false
   },
   "source": [
    "(1j). Produce a histogram of the <b>sv_residuals</b>."
   ]
  },
  {
   "cell_type": "code",
   "execution_count": null,
   "metadata": {},
   "outputs": [],
   "source": []
  },
  {
   "cell_type": "markdown",
   "metadata": {
    "deletable": false,
    "editable": false
   },
   "source": [
    "(1k). Now produce a QQ-plot of the residuals vs the Normal distribution. You can use the <b>probplot()</b> function in the <b>Scipy.stats</b> library using default options."
   ]
  },
  {
   "cell_type": "code",
   "execution_count": null,
   "metadata": {},
   "outputs": [],
   "source": []
  },
  {
   "cell_type": "markdown",
   "metadata": {
    "deletable": false,
    "editable": false
   },
   "source": [
    "(1l). Do the histogram and QQ-plot suggest that the residuals are Normally distributed?"
   ]
  },
  {
   "cell_type": "markdown",
   "metadata": {},
   "source": [
    "(Type your answer here)"
   ]
  },
  {
   "cell_type": "markdown",
   "metadata": {
    "deletable": false,
    "editable": false
   },
   "source": [
    "<b>(2). Two Variable OLS Regression. </b> <br>\n",
    "We will now add one more variable to the single variable regression model. We hypothesize a simple linear relationship (with intercept) between 'mpg', 'horsepower' and 'horsepower' (squared)."
   ]
  },
  {
   "cell_type": "markdown",
   "metadata": {
    "deletable": false,
    "editable": false
   },
   "source": [
    "We first introduce a squared-horsepower column."
   ]
  },
  {
   "cell_type": "code",
   "execution_count": 6,
   "metadata": {},
   "outputs": [],
   "source": [
    "square_columns = ['horsepower']"
   ]
  },
  {
   "cell_type": "markdown",
   "metadata": {
    "deletable": false,
    "editable": false
   },
   "source": [
    "(2a). Use the <b>introduce_power_terms()</b> function in <b>utils.py</b> to update the dataframe (df) with the new squared column. Be sure to provide <b>power=2</b> to <b>introduce_power_terms()</b>"
   ]
  },
  {
   "cell_type": "code",
   "execution_count": null,
   "metadata": {},
   "outputs": [],
   "source": []
  },
  {
   "cell_type": "markdown",
   "metadata": {
    "deletable": false,
    "editable": false
   },
   "source": [
    "(2b). Print the columns in the dataset and observe the new column you've just added."
   ]
  },
  {
   "cell_type": "code",
   "execution_count": null,
   "metadata": {},
   "outputs": [],
   "source": []
  },
  {
   "cell_type": "markdown",
   "metadata": {
    "deletable": false,
    "editable": false
   },
   "source": [
    "(2c). Build a simple OLS model using <b>statsmodels.OLS</b>. \n",
    "Your dependent variable is 'mpg'; \n",
    "Independent variables are 'horsepower' and 'horsepower^2'.\n",
    "Do include the intercept using the add_constant() function in statsmodels. \n",
    "Hint: http://www.statsmodels.org/dev/generated/statsmodels.regression.linear_model.OLS.html \n",
    "Store your multivariable model in a variable called <b>mv_model</b>"
   ]
  },
  {
   "cell_type": "code",
   "execution_count": null,
   "metadata": {},
   "outputs": [],
   "source": []
  },
  {
   "cell_type": "markdown",
   "metadata": {
    "deletable": false,
    "editable": false
   },
   "source": [
    "(2d). Similar to the exercise above: fit the model, produce in-sample predictions and residuals. <br>\n",
    "Save your in-sample predictions as <b>mv_y_hat</b> <br>\n",
    "Save your residuals as <b>mv_residuals</b>."
   ]
  },
  {
   "cell_type": "code",
   "execution_count": null,
   "metadata": {},
   "outputs": [],
   "source": []
  },
  {
   "cell_type": "markdown",
   "metadata": {
    "deletable": false,
    "editable": false
   },
   "source": [
    "(2e). On the same plot (using different colors):<br>\n",
    "1. Produce a scatter plot 'mpg' vs 'horsepower'; <br>\n",
    "2. Produce a plot of predictions (i.e. mv_y_hat) vs 'horsepower'. <br>\n",
    "Label your plots and axes"
   ]
  },
  {
   "cell_type": "code",
   "execution_count": null,
   "metadata": {},
   "outputs": [],
   "source": []
  },
  {
   "cell_type": "markdown",
   "metadata": {
    "deletable": false,
    "editable": false
   },
   "source": [
    "(2f). Does the best fit line now appear to do better justice to the data? Why or why not?"
   ]
  },
  {
   "cell_type": "markdown",
   "metadata": {},
   "source": [
    "(Type your answer here)"
   ]
  },
  {
   "cell_type": "markdown",
   "metadata": {
    "deletable": false,
    "editable": false
   },
   "source": [
    "(2g). Produce a histogram of the <b>mv_residuals</b>."
   ]
  },
  {
   "cell_type": "code",
   "execution_count": null,
   "metadata": {},
   "outputs": [],
   "source": []
  },
  {
   "cell_type": "markdown",
   "metadata": {
    "deletable": false,
    "editable": false
   },
   "source": [
    "(2h). Produce a QQ-plot vs Normal distribution of the <b>mv_residuals</b>."
   ]
  },
  {
   "cell_type": "code",
   "execution_count": null,
   "metadata": {},
   "outputs": [],
   "source": []
  },
  {
   "cell_type": "markdown",
   "metadata": {
    "deletable": false,
    "editable": false
   },
   "source": [
    "(2i). Do the histogram and QQ-plot suggest that the residuals are Normally distributed?"
   ]
  },
  {
   "cell_type": "markdown",
   "metadata": {},
   "source": [
    "(Type your answer here)"
   ]
  },
  {
   "cell_type": "markdown",
   "metadata": {
    "deletable": false,
    "editable": false
   },
   "source": [
    "(2j). Wrap part 0f. into a function <b>train_test_split()</b> that returns a random training and test set from a dataframe. Recall the training set should be of size roughly 70% and the test set 30%. "
   ]
  },
  {
   "cell_type": "code",
   "execution_count": null,
   "metadata": {},
   "outputs": [],
   "source": []
  },
  {
   "cell_type": "markdown",
   "metadata": {
    "deletable": false,
    "editable": false
   },
   "source": [
    "(2k). Use <b>train_test_split()</b> to produce 10 random subsets of the data for training and testing. Using the random splits, run 10 trials of the single variable and multivariable regression. Train your models on the Train set and then produce predictions on the corresponding Test set. Record the Mean-Squared Error on each of the 10 test sets. Print out the average Mean-Squared Error on the test sets for both the single varialbe and multivariable models. "
   ]
  },
  {
   "cell_type": "code",
   "execution_count": null,
   "metadata": {},
   "outputs": [],
   "source": []
  },
  {
   "cell_type": "markdown",
   "metadata": {
    "deletable": false,
    "editable": false
   },
   "source": [
    "(2l). What model among the single-variable and multi-variable ones would you prefer, and why? Consider both the regression fits on the Training data and the Mean-Squared Error on the Test set(s)."
   ]
  },
  {
   "cell_type": "markdown",
   "metadata": {},
   "source": [
    "(Type your answer here)."
   ]
  }
 ],
 "metadata": {
  "kernelspec": {
   "display_name": "Python 2",
   "language": "python",
   "name": "python2"
  },
  "language_info": {
   "codemirror_mode": {
    "name": "ipython",
    "version": 2
   },
   "file_extension": ".py",
   "mimetype": "text/x-python",
   "name": "python",
   "nbconvert_exporter": "python",
   "pygments_lexer": "ipython2",
   "version": "2.7.14"
  }
 },
 "nbformat": 4,
 "nbformat_minor": 2
}
