{
 "cells": [
  {
   "cell_type": "markdown",
   "metadata": {
    "deletable": false,
    "editable": false
   },
   "source": [
    "# NBA\n",
    "In this assignment, you will work with the NBA dataset. This dataset is provided to you in the same directory as this notebook with the filename \"nba_data.csv\". You have also been provided with some utility functions in a file titled \"utils.py\" that you are free to use, as needed. <br><br>\n",
    "<b> Due Date: 03/22/2018 (in Lecture)</b> <br>\n",
    "<b> Submission: instructions are stated at the end of this notebook.</b> <br>"
   ]
  },
  {
   "cell_type": "code",
   "execution_count": 2,
   "metadata": {},
   "outputs": [],
   "source": [
    "#Import the necessary libraries\n",
    "%matplotlib inline\n",
    "\n",
    "import matplotlib\n",
    "import numpy as np\n",
    "import matplotlib.pyplot as plt\n",
    "import utils"
   ]
  },
  {
   "cell_type": "markdown",
   "metadata": {
    "deletable": false,
    "editable": false
   },
   "source": [
    "<b>1. Data</b> <br>\n",
    "Read the data file (\"nba_data.csv\") as a pandas dataframe. <br>\n",
    "Hint: use the read_dataset_from_csv() function provided in utils.py. <br>\n",
    "Store the dataframe object in the variable df"
   ]
  },
  {
   "cell_type": "code",
   "execution_count": 3,
   "metadata": {},
   "outputs": [],
   "source": [
    "filename = 'nba_data.csv'\n",
    "df = utils.read_dataset_from_csv(filename)"
   ]
  },
  {
   "cell_type": "code",
   "execution_count": 7,
   "metadata": {},
   "outputs": [],
   "source": [
    "# We need to read date column as a datetime object (np.datetime64)\n",
    "df = utils.read_column_as_datetime(df, 'date', \"%A, %B %d, %Y\")"
   ]
  },
  {
   "cell_type": "markdown",
   "metadata": {
    "deletable": false,
    "editable": false
   },
   "source": [
    "(1a). What is the total number of games in the dataset?"
   ]
  },
  {
   "cell_type": "code",
   "execution_count": null,
   "metadata": {},
   "outputs": [],
   "source": []
  },
  {
   "cell_type": "markdown",
   "metadata": {
    "deletable": false,
    "editable": false
   },
   "source": [
    "(1b). How many columns are there in the dataset? Print all the column names."
   ]
  },
  {
   "cell_type": "code",
   "execution_count": null,
   "metadata": {},
   "outputs": [],
   "source": []
  },
  {
   "cell_type": "markdown",
   "metadata": {
    "deletable": false,
    "editable": false
   },
   "source": [
    "(1c). Create new column for the difference between home and away score for each game. Add this column to the dataframe."
   ]
  },
  {
   "cell_type": "code",
   "execution_count": null,
   "metadata": {},
   "outputs": [],
   "source": []
  },
  {
   "cell_type": "markdown",
   "metadata": {
    "deletable": false,
    "editable": false
   },
   "source": [
    "(1d). Create new column for total score in each game. Add this column to the dataframe."
   ]
  },
  {
   "cell_type": "code",
   "execution_count": null,
   "metadata": {},
   "outputs": [],
   "source": []
  },
  {
   "cell_type": "markdown",
   "metadata": {
    "deletable": false,
    "editable": false
   },
   "source": [
    "(1e). Write a function called <b>weekend_new_column()</b> to create two new columns: <br><br>\n",
    "a. <b>'day_of_week'</b>: this column should be set to an integer between $0$ an $6$, both inclusive. If the game was played on Monday then set day_of_week = 0, if it was played on Tuesday then day_of_week = 1, ...., and if it was played on Sunday then day_of_week = 6 <br><br>\n",
    "b. <b>'weekend'</b>: this column should be set to either 0 or 1. If the game was played over the weekend, i.e. on Saturday or Sunday then it should be = 1, else 0.<br><br>\n",
    "Feel free to use the function convert_to_datetime_from_numpy_datetime64() in utils.py. Also feel free to use numpy's datetime.datetime.weekday() function."
   ]
  },
  {
   "cell_type": "code",
   "execution_count": null,
   "metadata": {},
   "outputs": [],
   "source": [
    "def weekend_new_column(df):"
   ]
  },
  {
   "cell_type": "markdown",
   "metadata": {
    "deletable": false,
    "editable": false
   },
   "source": [
    "(1f). Use the <b>weekend_new_column()</b> function to add the two new columns (<b>day_of_week, weekend</b>) to the dataframe. "
   ]
  },
  {
   "cell_type": "code",
   "execution_count": null,
   "metadata": {},
   "outputs": [],
   "source": []
  },
  {
   "cell_type": "markdown",
   "metadata": {
    "deletable": false,
    "editable": false
   },
   "source": [
    "<b>2. Initial Exploration</b> <br>\n",
    "\n",
    "(2a). Compute the average total score per game for each season and then plot it (score vs season). <br>\n",
    "Start with season 1960 and end with season 2017.Comment on the general trends across all these years."
   ]
  },
  {
   "cell_type": "code",
   "execution_count": null,
   "metadata": {},
   "outputs": [],
   "source": []
  },
  {
   "cell_type": "markdown",
   "metadata": {
    "deletable": false,
    "editable": false
   },
   "source": [
    "(2b). Plot a histogram of the total scores per game. Use 120 bins. <br>\n",
    "We recommend you use 120 bins when displaying the histogram. Hint: check matplotlib's hist() function. Use bins=120 as an argument, along with the data."
   ]
  },
  {
   "cell_type": "code",
   "execution_count": null,
   "metadata": {},
   "outputs": [],
   "source": []
  },
  {
   "cell_type": "markdown",
   "metadata": {
    "deletable": false,
    "editable": false
   },
   "source": [
    "(2c). Do you see any evidence of Normality/Gaussianity?"
   ]
  },
  {
   "cell_type": "markdown",
   "metadata": {},
   "source": [
    "(Your answer goes here. Double-click to enable editing.)"
   ]
  },
  {
   "cell_type": "markdown",
   "metadata": {
    "deletable": false,
    "editable": false
   },
   "source": [
    "(2d). Plot a Quantile-Quantile (QQ) Plot. <br>\n",
    "Hint: use the probplot function in scipy.stats with default values. <br>\n",
    "Does the distribution appear Gaussian? Where might the evidence be weak?"
   ]
  },
  {
   "cell_type": "code",
   "execution_count": null,
   "metadata": {},
   "outputs": [],
   "source": []
  },
  {
   "cell_type": "markdown",
   "metadata": {},
   "source": [
    "(Type answers to the questions above)"
   ]
  },
  {
   "cell_type": "markdown",
   "metadata": {
    "deletable": false,
    "editable": false
   },
   "source": [
    "<b>3. During the 1990s, did scoring become more conservative in the NBA?</b> <br>\n",
    "You might have noticed in your earlier plots that there appears to be a dip in average scores during the 1990s. We will try to test whether the difference is statistically significant. For the purpose of this exercise, assume that all extraneous information (or covariates) remained the same/similar across the periods under consideration."
   ]
  },
  {
   "cell_type": "markdown",
   "metadata": {
    "deletable": false,
    "editable": false
   },
   "source": [
    "(3a). Subset to use games from the season >= 1970 and < 2000, ONLY. <br>\n",
    "<b>Use ONLY this subset for all parts in Section 3.</b>"
   ]
  },
  {
   "cell_type": "code",
   "execution_count": null,
   "metadata": {},
   "outputs": [],
   "source": [
    "df_subset = "
   ]
  },
  {
   "cell_type": "markdown",
   "metadata": {
    "deletable": false,
    "editable": false
   },
   "source": [
    "(3b). Split the dataset in two: <br>\n",
    "<b>df_subset_before</b>: all seasons < 1990 <br>\n",
    "<b>df_subset_after</br>: all seasons >= 1990"
   ]
  },
  {
   "cell_type": "code",
   "execution_count": null,
   "metadata": {},
   "outputs": [],
   "source": []
  },
  {
   "cell_type": "markdown",
   "metadata": {
    "deletable": false,
    "editable": false
   },
   "source": [
    "(3c). What is the Null Hypothesis if we want to test whether total points scored in a game have changed across the two periods? You can assume the points scores in all games are iid (simplifying assumption)."
   ]
  },
  {
   "cell_type": "markdown",
   "metadata": {},
   "source": [
    "(Type the Null Hypothesis here)"
   ]
  },
  {
   "cell_type": "markdown",
   "metadata": {
    "deletable": false,
    "editable": false
   },
   "source": [
    "(3d). Print the mean total score before year 1990 and after year 1990 (inclusive)."
   ]
  },
  {
   "cell_type": "code",
   "execution_count": null,
   "metadata": {},
   "outputs": [],
   "source": []
  },
  {
   "cell_type": "markdown",
   "metadata": {
    "deletable": false,
    "editable": false
   },
   "source": [
    "(3e). Perform the 2-sample t-Test for the means of the two samples.  <br>\n",
    "Feel free to use the scipy.stats library to perform the t-test for independent samples."
   ]
  },
  {
   "cell_type": "code",
   "execution_count": null,
   "metadata": {},
   "outputs": [],
   "source": []
  },
  {
   "cell_type": "markdown",
   "metadata": {
    "deletable": false,
    "editable": false
   },
   "source": [
    "(3f). Would you accept or reject your Null-Hypothesis? Why?"
   ]
  },
  {
   "cell_type": "markdown",
   "metadata": {},
   "source": [
    "(Write your answer here)"
   ]
  },
  {
   "cell_type": "markdown",
   "metadata": {
    "deletable": false,
    "editable": false
   },
   "source": [
    "<b>4. Is there such a thing as Home Advantage?</b><br>\n",
    "We will use the NBA dataset to statistically determine whether there is such a thing a \"home-court\" advantage. For the purpose of this exercise, assume that all extraneous information (or covariates) remained the same/similar across the periods under consideration."
   ]
  },
  {
   "cell_type": "markdown",
   "metadata": {
    "deletable": false,
    "editable": false
   },
   "source": [
    "(4a). We first restrict the data to seasons 2000-2017. This is because the mean yearly scores prior to season 2000 demonstrate far greater variance than during this most recent period. Ideally, we want to answer questions about home advantage, for example, during a period when the inter-seasonal variability was less extreme. <br>\n",
    "Produce a subset for seasons in the range $[2000, 2017]$ (both inclusive)."
   ]
  },
  {
   "cell_type": "code",
   "execution_count": null,
   "metadata": {},
   "outputs": [],
   "source": []
  },
  {
   "cell_type": "markdown",
   "metadata": {
    "deletable": false,
    "editable": false
   },
   "source": [
    "(4b). What is the mean difference between home team and away team scores in the subset you produced? Print the mean."
   ]
  },
  {
   "cell_type": "code",
   "execution_count": null,
   "metadata": {},
   "outputs": [],
   "source": []
  },
  {
   "cell_type": "markdown",
   "metadata": {
    "deletable": false,
    "editable": false
   },
   "source": [
    "(4c). If you wanted to test whether there was a statisitcally significant home advantage, what would your Null Hypothesis be? You may assume that team scores for each game are iid (simplifying assumption) and that there are no other confounding variables impacting scoring."
   ]
  },
  {
   "cell_type": "markdown",
   "metadata": {},
   "source": [
    "(State your Null Hypothesis here)."
   ]
  },
  {
   "cell_type": "markdown",
   "metadata": {
    "deletable": false,
    "editable": false
   },
   "source": [
    "(4d). On the subset you produced (seasons between 2000-2017), conduct a one-sample t-Test to test your hypothesis. Feel free use the scipy.stats library to perform the t-test. <br>\n",
    "Print the t-statistic and the associated p-value."
   ]
  },
  {
   "cell_type": "code",
   "execution_count": null,
   "metadata": {},
   "outputs": [],
   "source": []
  },
  {
   "cell_type": "markdown",
   "metadata": {
    "deletable": false,
    "editable": false
   },
   "source": [
    "(4d). What does the test lead you to conclude about home court advantage?"
   ]
  },
  {
   "cell_type": "markdown",
   "metadata": {},
   "source": [
    "(State your conclusion here)"
   ]
  },
  {
   "cell_type": "markdown",
   "metadata": {
    "deletable": false,
    "editable": false
   },
   "source": [
    "<b>5. Is there a statistically significant difference in scoring between games over weekends and weekdays?</b><br>\n",
    "Recall that we used the <b>weekend_new_column()</b> function to produce a new column indicating weekend/weekday. We will be using that column for the following analysis."
   ]
  },
  {
   "cell_type": "markdown",
   "metadata": {
    "deletable": false,
    "editable": false
   },
   "source": [
    "(5a). We restrict the data to seasons 2000-2017. Ensure that you are using a subset of the data for seasons 2000-2017 (as computed in Section 4)."
   ]
  },
  {
   "cell_type": "code",
   "execution_count": null,
   "metadata": {},
   "outputs": [],
   "source": []
  },
  {
   "cell_type": "markdown",
   "metadata": {
    "deletable": false,
    "editable": false
   },
   "source": [
    "(5b). For the data subset you produced, plot the histogram of the total scores in games played on weekends and weekdays. Recall that you created a new column for total score in each game in Section 1."
   ]
  },
  {
   "cell_type": "code",
   "execution_count": null,
   "metadata": {},
   "outputs": [],
   "source": []
  },
  {
   "cell_type": "markdown",
   "metadata": {
    "deletable": false,
    "editable": false
   },
   "source": [
    "(5c). For the data subset you prodocued, what are average total scores for weekend vs weekday games? Print both."
   ]
  },
  {
   "cell_type": "code",
   "execution_count": null,
   "metadata": {},
   "outputs": [],
   "source": []
  },
  {
   "cell_type": "markdown",
   "metadata": {
    "deletable": false,
    "editable": false
   },
   "source": [
    "We want to test whether there is a statistical difference in total scores per game for games played on Weekends (Saturday, Sunday) vs on Weekdays (Mon-Fri), for the dataset you produced for seasons 2000-2017."
   ]
  },
  {
   "cell_type": "markdown",
   "metadata": {
    "deletable": false,
    "editable": false
   },
   "source": [
    "(5d). What is your null hypothesis to test whether the total points scores per game is different for weekend vs weekday games? You may assume that team scores for each game are iid (simplifying assumption) and that there are no other confounding variables impacting scoring."
   ]
  },
  {
   "cell_type": "markdown",
   "metadata": {},
   "source": [
    "(State your Null Hypothesis here)"
   ]
  },
  {
   "cell_type": "markdown",
   "metadata": {
    "deletable": false,
    "editable": false
   },
   "source": [
    "(5e). Using the weekend and weekday games for seasons 2000-201, perform a two-sample t-Test to test your null hypothesis? Feel free to use the scipy.stats library to perform the t-test for independent samples. <br>\n",
    "Print the t-statistic and the associated p-value."
   ]
  },
  {
   "cell_type": "code",
   "execution_count": null,
   "metadata": {},
   "outputs": [],
   "source": []
  },
  {
   "cell_type": "markdown",
   "metadata": {
    "deletable": false,
    "editable": false
   },
   "source": [
    "(5e). What would you conclude?"
   ]
  },
  {
   "cell_type": "markdown",
   "metadata": {},
   "source": [
    "(State your conclusion here)"
   ]
  },
  {
   "cell_type": "markdown",
   "metadata": {
    "deletable": false,
    "editable": false
   },
   "source": [
    "<b>6. Are teams more conservative (in scoring) during the Playoffs vs Regular season? Has this varied across different periods of time?</b><br>\n",
    "We will test this using familiar statistical techniques."
   ]
  },
  {
   "cell_type": "markdown",
   "metadata": {
    "deletable": false,
    "editable": false
   },
   "source": [
    "(6a). Produce two subsets of the data:<br><br>\n",
    "<b>df_subset_playoffs</b>: all games played between April (month=4) and June (month=6), both inclusive.<br>\n",
    "<b>df_subset_regular</b>: all games played between September(month=9) and February(month=2), both inclusive. <br><br>\n",
    "Note that we exclude March for simplicity and to avoid ambiguity."
   ]
  },
  {
   "cell_type": "code",
   "execution_count": null,
   "metadata": {},
   "outputs": [],
   "source": []
  },
  {
   "cell_type": "markdown",
   "metadata": {
    "deletable": false,
    "editable": false
   },
   "source": [
    "(6b). What are the total number of Playoff and Regular games in your dataset? Print both."
   ]
  },
  {
   "cell_type": "code",
   "execution_count": null,
   "metadata": {},
   "outputs": [],
   "source": []
  },
  {
   "cell_type": "markdown",
   "metadata": {
    "deletable": false,
    "editable": false
   },
   "source": [
    "(6c). What are the mean total scores per game for Playoffs and Regular season? Print both."
   ]
  },
  {
   "cell_type": "code",
   "execution_count": null,
   "metadata": {},
   "outputs": [],
   "source": []
  },
  {
   "cell_type": "markdown",
   "metadata": {
    "deletable": false,
    "editable": false
   },
   "source": [
    "(6d). Plot the average scores during playoffs and regular season on the same plot for every season starting 1950 and ending in 2017 (both inclusive). What do you notice?"
   ]
  },
  {
   "cell_type": "code",
   "execution_count": null,
   "metadata": {},
   "outputs": [],
   "source": []
  },
  {
   "cell_type": "markdown",
   "metadata": {
    "deletable": false,
    "editable": false
   },
   "source": [
    "(6e). What is your Null Hypothesis if you want to test whether the total points scored per game is different for Playoffs as compared to the Regular season? You may assume that team scores for each game are iid (simplifying assumption) and that there are no other confounding variables impacting scoring."
   ]
  },
  {
   "cell_type": "markdown",
   "metadata": {},
   "source": [
    "(State your Null Hypothesis here)"
   ]
  },
  {
   "cell_type": "markdown",
   "metadata": {
    "deletable": false,
    "editable": false
   },
   "source": [
    "(6f). We will proceed in two steps: conduct this hypothesis test on two different periods: 1960-80 and 2000-17.<br>\n",
    "First, produce playoff and regular season subsets for seasons between 1960 and 1980 (both inclusive)."
   ]
  },
  {
   "cell_type": "code",
   "execution_count": null,
   "metadata": {},
   "outputs": [],
   "source": []
  },
  {
   "cell_type": "markdown",
   "metadata": {
    "deletable": false,
    "editable": false
   },
   "source": [
    "(6g). Print the mean total score per game for Playoffs and Regular seasons (between 1960-80)."
   ]
  },
  {
   "cell_type": "code",
   "execution_count": null,
   "metadata": {},
   "outputs": [],
   "source": []
  },
  {
   "cell_type": "markdown",
   "metadata": {
    "deletable": false,
    "editable": false
   },
   "source": [
    "(6h). On the 1960-1980 subset, perform a two-sample t-Test to test your null hypothesis. Feel free to use the scipy.stats library to perform the t-test for independent samples. <br>\n",
    "Print the t-statisitc and the associated p-value."
   ]
  },
  {
   "cell_type": "code",
   "execution_count": null,
   "metadata": {},
   "outputs": [],
   "source": []
  },
  {
   "cell_type": "markdown",
   "metadata": {
    "deletable": false,
    "editable": false
   },
   "source": [
    "(6i). What is your conclusion about Regular season scoring vs scoring in Playoffs during 1960-80?"
   ]
  },
  {
   "cell_type": "markdown",
   "metadata": {},
   "source": [
    "(State your conclusion here)"
   ]
  },
  {
   "cell_type": "markdown",
   "metadata": {
    "deletable": false,
    "editable": false
   },
   "source": [
    "(6j). Now restrict attention to seasons 2000-2017. <br>\n",
    "Produce playoff and regular season subsets for seasons between 2000 and 2017 (both inclusive)."
   ]
  },
  {
   "cell_type": "code",
   "execution_count": null,
   "metadata": {},
   "outputs": [],
   "source": []
  },
  {
   "cell_type": "markdown",
   "metadata": {
    "deletable": false,
    "editable": false
   },
   "source": [
    "(6k). What are the mean total scores per game for Playoffs and Regular seasons (2000-2017)?"
   ]
  },
  {
   "cell_type": "code",
   "execution_count": null,
   "metadata": {},
   "outputs": [],
   "source": []
  },
  {
   "cell_type": "markdown",
   "metadata": {
    "deletable": false,
    "editable": false
   },
   "source": [
    "(6l). For the seasons 2000-2017, perform a two-sample t-Test to test your null hypothesis. Feel free to use the scipy.stats library to perform the t-test for independent samples. <br>\n",
    "Print the t-statisitc and the associated p-value."
   ]
  },
  {
   "cell_type": "code",
   "execution_count": null,
   "metadata": {},
   "outputs": [],
   "source": []
  },
  {
   "cell_type": "markdown",
   "metadata": {
    "deletable": false,
    "editable": false
   },
   "source": [
    "(6m). What is your conclusion about Regular season scoring vs scoring in Playoffs during 2000-17? Do you have evidence that the differences in scoring are no longer as different as they used to be?"
   ]
  },
  {
   "cell_type": "markdown",
   "metadata": {},
   "source": [
    "(State your answers here)"
   ]
  },
  {
   "cell_type": "markdown",
   "metadata": {
    "deletable": false,
    "editable": false
   },
   "source": [
    "<b>7. The Michael Jordan Effect.</b><br>\n",
    "Widely regarded as the all-time greatest players in the history of the NBA, Michael Jordan led the Chicago Bulls to six championships (1991-93 and 1996-98). The other constants during the 1991-1998 Bulls era were hall of famer Scottie Pipen and coach Phil Jackson. We would like to study whether Jordan's presence on the team was (statistically) significant in bringing the championships to the Bulls. <br>\n",
    "Conveniently (for us), Jordan retired from basketball after winning three consecutive NBA championships with the Chicago Bulls. He retired ahead of the 1994 season but returned back from retirement late during the 1995 season to eventually lead the Bulls to three more titles in the 1996, 1997, 1998 seasons. <br>\n",
    "During his absence, both Pipen and Jackson were still at the Bulls, allowing us to study the impact of Michael Jordan's absence on the Chicago Bulls' performance. This fact will allow us to assume that the only change in the years with or without Jordan in the period 1992-1997 was Michael Jordan's presence/absence. You may assume there are no other confounding factors at play."
   ]
  },
  {
   "cell_type": "markdown",
   "metadata": {
    "deletable": false,
    "editable": false
   },
   "source": [
    "(7a). Produce a subset of the data which includes the following seasons only: 1992-1997. Additionally, the subset should only include games (home or away) featuring 'Chicago Bulls'."
   ]
  },
  {
   "cell_type": "code",
   "execution_count": null,
   "metadata": {},
   "outputs": [],
   "source": []
  },
  {
   "cell_type": "markdown",
   "metadata": {
    "deletable": false,
    "editable": false
   },
   "source": [
    "(7b). # Create three new columns on the subset as follows: <br>\n",
    "1. <b>for_score</b>: points scored by the Chicago Bulls (home or away) in the seasons 1992-1997. <br>\n",
    "2. <b>against_score</b>: points scored against the Chicago Bulls (home or away) in the seasons 1992-1997. <br>\n",
    "3. <b>net_score</b>: net score by the Chicago Bulls (home or away) in the seasons 1992-1997."
   ]
  },
  {
   "cell_type": "code",
   "execution_count": null,
   "metadata": {},
   "outputs": [],
   "source": []
  },
  {
   "cell_type": "markdown",
   "metadata": {
    "deletable": false,
    "editable": false
   },
   "source": [
    "(7c). Using the subset above, produce two disjoint subsets as follows: <br> \n",
    "<b>df_subset_jordan</b>: includes seasons 1992, 1993, 1996, 1997 (we leave 1994 and 1995 out). <br>\n",
    "<b>df_subset_no_jordan</b>: includes seasons 1994, 1995 only."
   ]
  },
  {
   "cell_type": "code",
   "execution_count": null,
   "metadata": {},
   "outputs": [],
   "source": []
  },
  {
   "cell_type": "markdown",
   "metadata": {
    "deletable": false,
    "editable": false
   },
   "source": [
    "(7d). What is the null hypothesis if we want to test whether the <b>for_score, against_score</b> and/or <b>net_score</b> for the Chicago Bulls were different during the Jordan seasons ('92, '93, '96, '97) and the seasons without him ('94, '95) in the period 1992-1997?"
   ]
  },
  {
   "cell_type": "markdown",
   "metadata": {},
   "source": [
    "(State your Null Hypothesis here)"
   ]
  },
  {
   "cell_type": "markdown",
   "metadata": {
    "deletable": false,
    "editable": false
   },
   "source": [
    "(7e). Produce the mean for_score by the Chicago Bulls during the Jordan seasons and the seasons without him. Print both."
   ]
  },
  {
   "cell_type": "code",
   "execution_count": null,
   "metadata": {},
   "outputs": [],
   "source": []
  },
  {
   "cell_type": "markdown",
   "metadata": {
    "deletable": false,
    "editable": false
   },
   "source": [
    "(7f). Conduct a two-sample t-Test for differences between the <b>for_score</b> during the Michael Jordan seasons and seasons without him. Feel free to use the scipy.stats library to perform the t-test for independent samples. <br>\n",
    "Print the t-statistic and the associated p-value."
   ]
  },
  {
   "cell_type": "code",
   "execution_count": null,
   "metadata": {},
   "outputs": [],
   "source": []
  },
  {
   "cell_type": "markdown",
   "metadata": {
    "deletable": false,
    "editable": false
   },
   "source": [
    "(7g).Repeat the above exercive for the <b>against_score</b>. Print the t-statistic and the associated p-value."
   ]
  },
  {
   "cell_type": "code",
   "execution_count": null,
   "metadata": {},
   "outputs": [],
   "source": []
  },
  {
   "cell_type": "markdown",
   "metadata": {
    "deletable": false,
    "editable": false
   },
   "source": [
    "(7h). What would you conclude based on the two tests?"
   ]
  },
  {
   "cell_type": "markdown",
   "metadata": {},
   "source": [
    "(State your conclusion here)"
   ]
  },
  {
   "cell_type": "markdown",
   "metadata": {
    "deletable": false,
    "editable": false
   },
   "source": [
    "(7i). Repeat the above test for <b>net_score</b>. Print the t-statisitc and the associated p-value."
   ]
  },
  {
   "cell_type": "code",
   "execution_count": null,
   "metadata": {},
   "outputs": [],
   "source": []
  },
  {
   "cell_type": "markdown",
   "metadata": {
    "deletable": false,
    "editable": false
   },
   "source": [
    "(7j). Does this test confirm the conclusion you reached based on the earlier two tests?"
   ]
  },
  {
   "cell_type": "markdown",
   "metadata": {},
   "source": [
    "(State your conclusion here)"
   ]
  },
  {
   "cell_type": "markdown",
   "metadata": {
    "deletable": false,
    "editable": false
   },
   "source": [
    "(7k). While Scottie Pipen and Phil Jackson were constants during the entire period 1992-1998, can you think of reasons to cast doubt on the conclusions reached by the tests? <br>\n",
    "Hint: we want you to question whether the assumption about \"no other confounding variables\" is valid? Could there be other factors at play?"
   ]
  },
  {
   "cell_type": "markdown",
   "metadata": {},
   "source": [
    "(State your answer here)"
   ]
  },
  {
   "cell_type": "markdown",
   "metadata": {
    "deletable": false,
    "editable": false
   },
   "source": [
    "<b>8. Do back-to-back games impact scoring?</b><br>\n",
    "We want to test whether teams playing back-to-back games (i.e. playing on consecutive nights of the week) has any effect on total scoring during a game. "
   ]
  },
  {
   "cell_type": "markdown",
   "metadata": {
    "deletable": false,
    "editable": false
   },
   "source": [
    "(8a). First, write a function, <b>rest_days()</b> which takes as input the complete dataset as a dataframe and adds a new column which records the total number of nights of rest that the home and away teams have had for each game. <br>\n",
    "<b>Note</b>: the column must track the <b>sum</b> of the rest days for the home and away team. <br>\n",
    "If a team has a prolonged rest (i.e. > 7 days), set that to 8 days. This will help eliminate the skewed effects of strikes and long periods off (e.g. the summer).<br>\n",
    "Therefore, the range for the new column is 2-16 days (both inclusive)."
   ]
  },
  {
   "cell_type": "code",
   "execution_count": null,
   "metadata": {},
   "outputs": [],
   "source": [
    "def rest_days(df):\n",
    "    # complete this function"
   ]
  },
  {
   "cell_type": "markdown",
   "metadata": {
    "deletable": false,
    "editable": false
   },
   "source": [
    "(8b). Call the <b>rest_days(df)</b> function to update the dataframe."
   ]
  },
  {
   "cell_type": "code",
   "execution_count": null,
   "metadata": {},
   "outputs": [],
   "source": []
  },
  {
   "cell_type": "markdown",
   "metadata": {
    "deletable": false,
    "editable": false
   },
   "source": [
    "(8c). Produce a histogram of the rest days."
   ]
  },
  {
   "cell_type": "code",
   "execution_count": null,
   "metadata": {},
   "outputs": [],
   "source": []
  },
  {
   "cell_type": "markdown",
   "metadata": {
    "deletable": false,
    "editable": false
   },
   "source": [
    "(8d). What does the histogram tell you about the schedule of an NBA team during the season?"
   ]
  },
  {
   "cell_type": "markdown",
   "metadata": {},
   "source": [
    "(State your answer here)"
   ]
  },
  {
   "cell_type": "markdown",
   "metadata": {
    "deletable": false,
    "editable": false
   },
   "source": [
    "(8e). For the seasons 2000-2017 only, produce two subsets:<br>\n",
    "<b>back_to_back</b>: with games where the rest days are <= 3 (i.e. at least one team is playing back-to-back)<br>\n",
    "<b>longer</b>: games where the rest days are >=4 and <= 5."
   ]
  },
  {
   "cell_type": "code",
   "execution_count": null,
   "metadata": {},
   "outputs": [],
   "source": []
  },
  {
   "cell_type": "markdown",
   "metadata": {
    "deletable": false,
    "editable": false
   },
   "source": [
    "(8f). What would your Null Hypothesis be if you wanted to test whether back_to_back games produce different scoring than games with combined rest between 4-5 days? Assume there are no other confounding variables at play."
   ]
  },
  {
   "cell_type": "markdown",
   "metadata": {},
   "source": [
    "(State your Null Hypothesis here)."
   ]
  },
  {
   "cell_type": "markdown",
   "metadata": {
    "deletable": false,
    "editable": false
   },
   "source": [
    "(8g). Print the mean total scores per game for the <b>back_to_back</b> and <b>longer</b> subsets (for seasons 2000-2017)."
   ]
  },
  {
   "cell_type": "code",
   "execution_count": null,
   "metadata": {},
   "outputs": [],
   "source": []
  },
  {
   "cell_type": "markdown",
   "metadata": {
    "deletable": false,
    "editable": false
   },
   "source": [
    "(8h). For the seasons 2000-2017 and using the two subsets you created, conduct a two-sample t-test to test your hypothesis. Feel free to use the scipy.stats library to perform the t-test for independent samples. <br>\n",
    "Print the t-statistic and the associated p-value."
   ]
  },
  {
   "cell_type": "code",
   "execution_count": null,
   "metadata": {},
   "outputs": [],
   "source": []
  },
  {
   "cell_type": "markdown",
   "metadata": {
    "deletable": false,
    "editable": false
   },
   "source": [
    "(8i). What do you conclude about back-to-back games?"
   ]
  },
  {
   "cell_type": "code",
   "execution_count": null,
   "metadata": {},
   "outputs": [],
   "source": []
  },
  {
   "cell_type": "markdown",
   "metadata": {
    "deletable": false,
    "editable": false
   },
   "source": [
    "(8j). Do you think the difference/no difference between <= 3 rest days and 4-5 rest days could be a result of confounding (i.e. other factors which may explain or be responsible for the observations)? What could be the confounding factors? <br>\n",
    "Hint: think about situations during the season when the distributions of rest days could be different. "
   ]
  },
  {
   "cell_type": "markdown",
   "metadata": {},
   "source": [
    "(State your answer here)."
   ]
  },
  {
   "cell_type": "markdown",
   "metadata": {
    "deletable": false,
    "editable": false
   },
   "source": [
    "<b>******* SUBMISSION ******** </b> <br>\n",
    "Please print your solution (this .pynb file) and submit in Lecture on the due date. Our recommendation is to save the .pdf and .ipynb versions of your notebook solutions on your local-disk (in case they are needed later). <br>\n",
    "You should make sure your printout has all your work (plots, code, write-ups) clearly legible."
   ]
  }
 ],
 "metadata": {
  "celltoolbar": "Edit Metadata",
  "kernelspec": {
   "display_name": "Python 2",
   "language": "python",
   "name": "python2"
  },
  "language_info": {
   "codemirror_mode": {
    "name": "ipython",
    "version": 2
   },
   "file_extension": ".py",
   "mimetype": "text/x-python",
   "name": "python",
   "nbconvert_exporter": "python",
   "pygments_lexer": "ipython2",
   "version": "2.7.14"
  }
 },
 "nbformat": 4,
 "nbformat_minor": 2
}
