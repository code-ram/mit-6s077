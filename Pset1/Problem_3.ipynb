{
 "cells": [
  {
   "cell_type": "markdown",
   "metadata": {
    "deletable": false,
    "editable": false
   },
   "source": [
    "<b>Problem 3</b><br>\n",
    "The data for this problem is provided as a csv file called <b>crab_data.csv</b>.<br>\n",
    "You need to provide answers to parts (b), (e) and (f). Refer to the Problem Set 1 pdf."
   ]
  },
  {
   "cell_type": "code",
   "execution_count": 1,
   "metadata": {},
   "outputs": [],
   "source": [
    "# import libraries\n",
    "import numpy as np\n",
    "import pandas as pd\n",
    "\n",
    "# read data as pandas dataframe\n",
    "df = pd.read_csv(\"crab_data.csv\")"
   ]
  },
  {
   "cell_type": "markdown",
   "metadata": {
    "deletable": false,
    "editable": false
   },
   "source": [
    "<b> 3(b)</b><br>\n",
    "i. Provide the ML estimates of the parameter vector: $\\hat{\\theta} = (\\hat{\\mu}, \\hat{v} )$. <br>\n",
    "\n",
    "ii. Next, generate a sample of the same length as the number of observations in the crab dataset. This sample should should come from a Normal distribution with the same mean and variance you just estimated, i.e. $(\\hat{\\mu}, \\hat{v} )$. You may find the numpy library's <b>random.normal()</b> function helpful. The documentation can be accessed at: https://docs.scipy.org/doc/numpy/reference/generated/numpy.random.normal.html <br>\n",
    "\n",
    "iii. Finally, you need to produce a histogram of the random observations you generated using the ML estimates. Set the bins = 20, and use color = \"red\". On the same plot, also produce the histogram of the original data (empirical pdf) using bins = 20. Set the color of that histogram to be \"gray\". "
   ]
  },
  {
   "cell_type": "code",
   "execution_count": null,
   "metadata": {},
   "outputs": [],
   "source": []
  },
  {
   "cell_type": "markdown",
   "metadata": {
    "deletable": false,
    "editable": false
   },
   "source": [
    "<b>3b (continued)</b><br>\n",
    "Compare visually the two histograms generated above."
   ]
  },
  {
   "cell_type": "markdown",
   "metadata": {},
   "source": [
    "(write your comments here)"
   ]
  },
  {
   "cell_type": "markdown",
   "metadata": {
    "deletable": false,
    "editable": false
   },
   "source": [
    "<b> 3(e)</b><br>\n",
    "i. Generate a sample of the same length as the number of observations in the crab dataset. This sample should should come from a mixture of two Normal distributions with the EM algorithm's means and variance provided in the Pset pdf, i.e. $(\\hat{\\mu_1}, \\hat{v_1}, \\hat{\\mu_2}, \\hat{v_2} )$ and the proportions of samples from each Normal distribution is dictated by $\\hat{\\lambda}$. You may find the numpy library's <b>random.normal()</b> function helpful. The documentation can be accessed at: https://docs.scipy.org/doc/numpy/reference/generated/numpy.random.normal.html <br>\n",
    "\n",
    "ii. Now, you need to produce a histogram of the random observations you generated using the EM estimates noted above. Set the bins = 20, and use color = \"red\". On the same plot, also produce the histogram of the original data (empirical pdf) using bins = 20. Set the color of that histogram to be \"gray\". "
   ]
  },
  {
   "cell_type": "code",
   "execution_count": null,
   "metadata": {},
   "outputs": [],
   "source": []
  },
  {
   "cell_type": "markdown",
   "metadata": {
    "deletable": false,
    "editable": false
   },
   "source": [
    "<b>3e (continued)</b><br>\n",
    "Compare visually the two histograms generated above."
   ]
  },
  {
   "cell_type": "markdown",
   "metadata": {},
   "source": [
    "(write your comments here)"
   ]
  },
  {
   "cell_type": "markdown",
   "metadata": {
    "deletable": false,
    "editable": false
   },
   "source": [
    "<b>3(f)</b><br>\n",
    "Compute the statistics $\\hat{m}^k, 1 \\leq k \\leq 5$."
   ]
  },
  {
   "cell_type": "code",
   "execution_count": null,
   "metadata": {},
   "outputs": [],
   "source": []
  }
 ],
 "metadata": {
  "celltoolbar": "Edit Metadata",
  "kernelspec": {
   "display_name": "Python 2",
   "language": "python",
   "name": "python2"
  },
  "language_info": {
   "codemirror_mode": {
    "name": "ipython",
    "version": 2
   },
   "file_extension": ".py",
   "mimetype": "text/x-python",
   "name": "python",
   "nbconvert_exporter": "python",
   "pygments_lexer": "ipython2",
   "version": "2.7.14"
  }
 },
 "nbformat": 4,
 "nbformat_minor": 2
}
