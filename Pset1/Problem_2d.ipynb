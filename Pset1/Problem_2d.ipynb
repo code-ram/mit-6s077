{
 "cells": [
  {
   "cell_type": "markdown",
   "metadata": {
    "deletable": false,
    "editable": false
   },
   "source": [
    "<b>Problem 2(d)</b> <br>\n",
    "The data file with 25 samples is provided as the file <b>data_2d.csv</b>. Your task is to produce numerical estimates of: <br><br>\n",
    "i. $\\theta_{ML}$ (part a) <br>\n",
    "ii. $\\hat{\\theta}_1$ (part b) <br>\n",
    "iii. $\\hat{\\theta}_2$ (part b) <br>\n",
    "iv. $\\hat{\\theta}_m$ (part c) <br>\n",
    "\n",
    "Use the space below to write code to read the data file, and produce all four estimates noted above. Your code should print the four values (and identify them appropriately)."
   ]
  },
  {
   "cell_type": "code",
   "execution_count": null,
   "metadata": {},
   "outputs": [],
   "source": [
    "# import libraries\n",
    "import numpy as np\n",
    "import pandas as pd\n",
    "\n",
    "# read the data\n",
    "df = pd.read_csv(\"data_2d.csv\", header=None)"
   ]
  }
 ],
 "metadata": {
  "celltoolbar": "Raw Cell Format",
  "kernelspec": {
   "display_name": "Python 2",
   "language": "python",
   "name": "python2"
  },
  "language_info": {
   "codemirror_mode": {
    "name": "ipython",
    "version": 2
   },
   "file_extension": ".py",
   "mimetype": "text/x-python",
   "name": "python",
   "nbconvert_exporter": "python",
   "pygments_lexer": "ipython2",
   "version": "2.7.14"
  }
 },
 "nbformat": 4,
 "nbformat_minor": 2
}
