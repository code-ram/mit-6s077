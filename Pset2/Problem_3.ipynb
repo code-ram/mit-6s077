{
 "cells": [
  {
   "cell_type": "markdown",
   "metadata": {
    "deletable": false,
    "editable": false
   },
   "source": [
    "<b>Problem 3</b><br>\n",
    "The data for this problem is provided as a csv file called <b>data_problem_3.csv</b>.<br>\n",
    "You need to provide answers to parts (b), (c), (d) and (e). Refer to the Problem Set 2 pdf."
   ]
  },
  {
   "cell_type": "code",
   "execution_count": 1,
   "metadata": {},
   "outputs": [],
   "source": [
    "# import libraries\n",
    "import numpy as np\n",
    "import pandas as pd\n",
    "\n",
    "# read data as pandas dataframe\n",
    "data = pd.read_csv(\"data_problem_3.csv\", header=None)\n",
    "data = data[0].values # now your data is just an array"
   ]
  },
  {
   "cell_type": "markdown",
   "metadata": {
    "deletable": false,
    "editable": false
   },
   "source": [
    "<b> 3(b)</b><br>\n",
    "i. Use numpy to calculate the <b>mean</b> of the dataset\n",
    "ii.Use numpy to calculate the <b>median</b> of the dataset"
   ]
  },
  {
   "cell_type": "code",
   "execution_count": null,
   "metadata": {},
   "outputs": [],
   "source": []
  },
  {
   "cell_type": "markdown",
   "metadata": {
    "deletable": false,
    "editable": false
   },
   "source": [
    "<b> 3(c)</b><br>\n",
    "i. Sample 101 data points (with replacement) and record the median. Repeat 10,000 times to get 10,000 estimates of the median.<br>\n",
    "ii. Plot the resulting histogram of estimates using bins=20.<br>"
   ]
  },
  {
   "cell_type": "code",
   "execution_count": null,
   "metadata": {},
   "outputs": [],
   "source": []
  },
  {
   "cell_type": "markdown",
   "metadata": {
    "deletable": false,
    "editable": false
   },
   "source": [
    "<b> 3(d)</b><br>\n",
    "i. Calculate the estimated bias (recall that your reference value is the median from part (b). <br>\n",
    "ii. Calculate the standard error (which is just the standard deviation of the values you plotted in the histogram)."
   ]
  },
  {
   "cell_type": "code",
   "execution_count": null,
   "metadata": {},
   "outputs": [],
   "source": []
  },
  {
   "cell_type": "markdown",
   "metadata": {
    "deletable": false,
    "editable": false
   },
   "source": [
    "<b> 3(e)</b><br>\n",
    "Use the estimated values (the ones you plotted in the histogram) to produce estimates of the 95% confidence intervals. You may find the <b>sort()</b> function useful for this exercise."
   ]
  },
  {
   "cell_type": "code",
   "execution_count": null,
   "metadata": {},
   "outputs": [],
   "source": []
  }
 ],
 "metadata": {
  "celltoolbar": "Edit Metadata",
  "kernelspec": {
   "display_name": "Python 2",
   "language": "python",
   "name": "python2"
  },
  "language_info": {
   "codemirror_mode": {
    "name": "ipython",
    "version": 2
   },
   "file_extension": ".py",
   "mimetype": "text/x-python",
   "name": "python",
   "nbconvert_exporter": "python",
   "pygments_lexer": "ipython2",
   "version": "2.7.14"
  }
 },
 "nbformat": 4,
 "nbformat_minor": 2
}
